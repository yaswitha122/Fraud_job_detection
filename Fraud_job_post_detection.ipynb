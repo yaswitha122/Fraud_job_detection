{
  "nbformat": 4,
  "nbformat_minor": 0,
  "metadata": {
    "colab": {
      "provenance": []
    },
    "kernelspec": {
      "name": "python3",
      "display_name": "Python 3"
    },
    "language_info": {
      "name": "python"
    }
  },
  "cells": [
    {
      "cell_type": "markdown",
      "source": [
        "<p align=\"center\">\n",
        "  <b><font size=\"+3\">Fraudulent Job Post Detection</font></b>\n",
        "</p>\n",
        "\n",
        "---\n",
        "**Team:**\n",
        "\n",
        "\n",
        "*   N. VSNSPS PRANAVI : N200589\n",
        "\n",
        "*   B. ROHINI SANKARI : N200295\n",
        "\n",
        "*   J. YASWITHA : N200745\n",
        "*   M. LILLY : N200180\n",
        "*   B. GOWTHAMI BAI : N201007\n",
        "\n"
      ],
      "metadata": {
        "id": "8EznesvOg02W"
      }
    },
    {
      "cell_type": "code",
      "execution_count": null,
      "metadata": {
        "colab": {
          "base_uri": "https://localhost:8080/"
        },
        "id": "EfEXdv6bGjPx",
        "outputId": "1803d2d7-56e3-4f8c-8e11-ff8a290812cb"
      },
      "outputs": [
        {
          "output_type": "stream",
          "name": "stdout",
          "text": [
            "Mounted at /content/drive\n"
          ]
        }
      ],
      "source": [
        "from google.colab import drive\n",
        "drive.mount('/content/drive')"
      ]
    },
    {
      "cell_type": "markdown",
      "source": [
        "Imports"
      ],
      "metadata": {
        "id": "-bgdRXVbgyVn"
      }
    },
    {
      "cell_type": "code",
      "source": [
        "import pandas as pd\n",
        "import numpy as np\n",
        "import matplotlib.pyplot as plt\n",
        "import seaborn as sns\n",
        "import re\n",
        "from sklearn.feature_extraction.text import TfidfVectorizer\n",
        "from scipy.sparse import hstack\n",
        "from scipy.sparse import csr_matrix\n",
        "import string\n",
        "from nltk.corpus import stopwords\n",
        "from nltk.stem import WordNetLemmatizer\n",
        "import nltk\n",
        "from sklearn.preprocessing import OneHotEncoder\n",
        "#models\n",
        "from sklearn.ensemble import RandomForestClassifier, AdaBoostClassifier, GradientBoostingClassifier, VotingClassifier\n",
        "from sklearn.linear_model import LogisticRegression\n",
        "from sklearn.naive_bayes import MultinomialNB\n",
        "from sklearn.tree import DecisionTreeClassifier\n",
        "from xgboost import XGBClassifier\n",
        "from sklearn.svm import LinearSVC\n",
        "from sklearn.model_selection import train_test_split\n",
        "from sklearn.metrics import classification_report, accuracy_score, confusion_matrix\n",
        "from sklearn.model_selection import StratifiedKFold, cross_val_score\n",
        "from imblearn.over_sampling import RandomOverSampler\n",
        "\n"
      ],
      "metadata": {
        "id": "9TgVef1NH0ZC"
      },
      "execution_count": null,
      "outputs": []
    },
    {
      "cell_type": "markdown",
      "source": [
        "Importing datasets"
      ],
      "metadata": {
        "id": "Jtuni-RLfUf8"
      }
    },
    {
      "cell_type": "code",
      "source": [
        "dataset_path=\"/content/drive/MyDrive/fake_job_postings.csv\"\n",
        "df1= pd.read_csv(dataset_path)"
      ],
      "metadata": {
        "id": "wEwH_ohtH-hA"
      },
      "execution_count": null,
      "outputs": []
    },
    {
      "cell_type": "code",
      "source": [
        "dataset_path=\"/content/drive/MyDrive/CompiledjobListNigeria.csv\"\n",
        "df2= pd.read_csv(dataset_path)"
      ],
      "metadata": {
        "id": "683X9Tw9IIlI"
      },
      "execution_count": null,
      "outputs": []
    },
    {
      "cell_type": "code",
      "source": [
        "dataset_path=\"/content/drive/MyDrive/Fake Postings.csv\"\n",
        "df3= pd.read_csv(dataset_path)"
      ],
      "metadata": {
        "id": "uhqoOdP2IKDB"
      },
      "execution_count": null,
      "outputs": []
    },
    {
      "cell_type": "code",
      "source": [
        "df1.columns\n"
      ],
      "metadata": {
        "colab": {
          "base_uri": "https://localhost:8080/"
        },
        "id": "M_KtWrSEIUcF",
        "outputId": "18542597-86f9-4699-acdc-cf038c25d721"
      },
      "execution_count": null,
      "outputs": [
        {
          "output_type": "execute_result",
          "data": {
            "text/plain": [
              "Index(['job_id', 'title', 'location', 'department', 'salary_range',\n",
              "       'company_profile', 'description', 'requirements', 'benefits',\n",
              "       'telecommuting', 'has_company_logo', 'has_questions', 'employment_type',\n",
              "       'required_experience', 'required_education', 'industry', 'function',\n",
              "       'fraudulent'],\n",
              "      dtype='object')"
            ]
          },
          "metadata": {},
          "execution_count": 8
        }
      ]
    },
    {
      "cell_type": "code",
      "source": [
        "df2.columns"
      ],
      "metadata": {
        "colab": {
          "base_uri": "https://localhost:8080/"
        },
        "id": "pYUQc8pMIVyJ",
        "outputId": "3a1cd717-b7d8-4d25-ac01-76afb766f565"
      },
      "execution_count": null,
      "outputs": [
        {
          "output_type": "execute_result",
          "data": {
            "text/plain": [
              "Index(['job_title', 'company_name', 'company_desc', 'job_desc',\n",
              "       'job_requirement', 'salary', 'location', 'employment_type',\n",
              "       'department', 'label'],\n",
              "      dtype='object')"
            ]
          },
          "metadata": {},
          "execution_count": 9
        }
      ]
    },
    {
      "cell_type": "code",
      "source": [
        "df3.columns"
      ],
      "metadata": {
        "colab": {
          "base_uri": "https://localhost:8080/"
        },
        "id": "aHoNEygzJQuH",
        "outputId": "ba8efc93-c8e9-42a5-bc2f-b2b502205738"
      },
      "execution_count": null,
      "outputs": [
        {
          "output_type": "execute_result",
          "data": {
            "text/plain": [
              "Index(['title', 'description', 'requirements', 'company_profile', 'location',\n",
              "       'salary_range', 'employment_type', 'industry', 'benefits',\n",
              "       'fraudulent'],\n",
              "      dtype='object')"
            ]
          },
          "metadata": {},
          "execution_count": 10
        }
      ]
    },
    {
      "cell_type": "markdown",
      "source": [
        "Merging the datasets"
      ],
      "metadata": {
        "id": "MpyQ-St2fZd9"
      }
    },
    {
      "cell_type": "code",
      "source": [
        "df3['salary_range'] = df3['salary_range'].str.replace(r'[$]', '', regex=True)\n"
      ],
      "metadata": {
        "id": "fX_3hpZBO3WE"
      },
      "execution_count": null,
      "outputs": []
    },
    {
      "cell_type": "code",
      "source": [
        "target_columns = [\n",
        "    'title','location','description','requirements','company_profile','employment_type','salary','industry','department','fraudulent'\n",
        "]\n"
      ],
      "metadata": {
        "id": "odqXNxBTJTQ_"
      },
      "execution_count": null,
      "outputs": []
    },
    {
      "cell_type": "code",
      "source": [
        "#Align df1\n",
        "df1_aligned = df1.rename(columns={\n",
        "    'salary_range': 'salary'\n",
        "})\n",
        "\n",
        "# Add missing columns to df1 if needed\n",
        "for col in target_columns:\n",
        "    if col not in df1_aligned.columns:\n",
        "        df1_aligned[col] = None\n",
        "\n",
        "df1_aligned = df1_aligned[target_columns]\n",
        "\n",
        "# Align df2\n",
        "df2_aligned = df2.rename(columns={\n",
        "    'job_title': 'title',\n",
        "    'job_desc': 'description',\n",
        "    'job_requirement': 'requirements',\n",
        "    'company_desc': 'company_profile',\n",
        "    'salary': 'salary',\n",
        "    'label': 'fraudulent'\n",
        "})\n",
        "\n",
        "# Add missing columns to df2\n",
        "for col in target_columns:\n",
        "    if col not in df2_aligned.columns:\n",
        "        df2_aligned[col] = None\n",
        "\n",
        "df2_aligned = df2_aligned[target_columns]\n",
        "\n",
        "#Align df3\n",
        "df3_aligned = df3.rename(columns={\n",
        "    'salary_range': 'salary'\n",
        "})\n",
        "\n",
        "# Add missing columns to df3\n",
        "for col in target_columns:\n",
        "    if col not in df3_aligned.columns:\n",
        "        df3_aligned[col] = None\n",
        "\n",
        "df3_aligned = df3_aligned[target_columns]\n",
        "\n",
        "#Combine them\n",
        "combined_df = pd.concat([df1_aligned, df2_aligned, df3_aligned], ignore_index=True)\n",
        "\n",
        "print(\"Combined shape:\", combined_df.shape)\n"
      ],
      "metadata": {
        "colab": {
          "base_uri": "https://localhost:8080/"
        },
        "id": "T0GbeX0kJveW",
        "outputId": "39f9fc1f-e408-48b8-c30a-662f54c416cb"
      },
      "execution_count": null,
      "outputs": [
        {
          "output_type": "stream",
          "name": "stdout",
          "text": [
            "Combined shape: (28082, 10)\n"
          ]
        }
      ]
    },
    {
      "cell_type": "code",
      "source": [
        "combined_df\n"
      ],
      "metadata": {
        "colab": {
          "base_uri": "https://localhost:8080/",
          "height": 597
        },
        "id": "yOfRjfhNJyfT",
        "outputId": "e59b7908-05cb-4669-9542-c2e59992de73"
      },
      "execution_count": null,
      "outputs": [
        {
          "output_type": "execute_result",
          "data": {
            "text/plain": [
              "                                           title            location  \\\n",
              "0                               Marketing Intern    US, NY, New York   \n",
              "1      Customer Service - Cloud Video Production      NZ, , Auckland   \n",
              "2        Commissioning Machinery Assistant (CMA)       US, IA, Wever   \n",
              "3              Account Executive - Washington DC  US, DC, Washington   \n",
              "4                            Bill Review Manager  US, FL, Fort Worth   \n",
              "...                                          ...                 ...   \n",
              "28077                        Designer, furniture           Paulabury   \n",
              "28078             Therapist, speech and language      Moraleschester   \n",
              "28079                          Therapist, sports      Christinemouth   \n",
              "28080                Clinical research associate   Lake Meredithberg   \n",
              "28081                        Hospital pharmacist        Samanthaland   \n",
              "\n",
              "                                             description  \\\n",
              "0      Food52, a fast-growing, James Beard Award-winn...   \n",
              "1      Organised - Focused - Vibrant - Awesome!Do you...   \n",
              "2      Our client, located in Houston, is actively se...   \n",
              "3      THE COMPANY: ESRI – Environmental Systems Rese...   \n",
              "4      JOB TITLE: Itemization Review ManagerLOCATION:...   \n",
              "...                                                  ...   \n",
              "28077  Worry own pressure stuff together room propert...   \n",
              "28078  Enter bit thing certainly. Earn $5000/week! Im...   \n",
              "28079  Visit goal under boy. Earn $5000/week! Immedia...   \n",
              "28080  Walk money letter few. Earn $5000/week! Immedi...   \n",
              "28081  Other left TV each reveal. Earn $5000/week! Im...   \n",
              "\n",
              "                                            requirements  \\\n",
              "0      Experience with content management systems a m...   \n",
              "1      What we expect from you:Your key responsibilit...   \n",
              "2      Implement pre-commissioning and commissioning ...   \n",
              "3      EDUCATION: Bachelor’s or Master’s in GIS, busi...   \n",
              "4      QUALIFICATIONS:RN license in the State of Texa...   \n",
              "...                                                  ...   \n",
              "28077  Basic knowledge in discussion, no degree requi...   \n",
              "28078  Basic knowledge in value, no degree required. ...   \n",
              "28079  Basic knowledge in during, no degree required....   \n",
              "28080  Basic knowledge in can, no degree required. Fl...   \n",
              "28081  Basic knowledge in pick, no degree required. F...   \n",
              "\n",
              "                                         company_profile employment_type  \\\n",
              "0      We're Food52, and we've created a groundbreaki...           Other   \n",
              "1      90 Seconds, the worlds Cloud Video Production ...       Full-time   \n",
              "2      Valor Services provides Workforce Solutions th...             NaN   \n",
              "3      Our passion for improving quality of life thro...       Full-time   \n",
              "4      SpotSource Solutions LLC is a Global Human Cap...       Full-time   \n",
              "...                                                  ...             ...   \n",
              "28077                 Olson-Williams - Established 2017.       Full-Time   \n",
              "28078                  Moreno-Pruitt - Established 2016.       Part-Time   \n",
              "28079     Lewis, Patterson and Cowan - Established 1979.       Full-Time   \n",
              "28080                 Diaz-Wilkerson - Established 2019.        Contract   \n",
              "28081       Sanders, Sanchez and Cox - Established 2024.       Temporary   \n",
              "\n",
              "             salary                   industry department  fraudulent  \n",
              "0               NaN                        NaN  Marketing           0  \n",
              "1               NaN  Marketing and Advertising    Success           0  \n",
              "2               NaN                        NaN        NaN           0  \n",
              "3               NaN          Computer Software      Sales           0  \n",
              "4               NaN     Hospital & Health Care        NaN           0  \n",
              "...             ...                        ...        ...         ...  \n",
              "28077  39450-149734                     Retail       None           1  \n",
              "28078  49324-111597                         IT       None           1  \n",
              "28079   41346-89686                  Education       None           1  \n",
              "28080  65604-149614                    Finance       None           1  \n",
              "28081  56437-112301                Real Estate       None           1  \n",
              "\n",
              "[28082 rows x 10 columns]"
            ],
            "text/html": [
              "\n",
              "  <div id=\"df-b4bae55e-f4af-4d0b-b47f-fde299d7a0d8\" class=\"colab-df-container\">\n",
              "    <div>\n",
              "<style scoped>\n",
              "    .dataframe tbody tr th:only-of-type {\n",
              "        vertical-align: middle;\n",
              "    }\n",
              "\n",
              "    .dataframe tbody tr th {\n",
              "        vertical-align: top;\n",
              "    }\n",
              "\n",
              "    .dataframe thead th {\n",
              "        text-align: right;\n",
              "    }\n",
              "</style>\n",
              "<table border=\"1\" class=\"dataframe\">\n",
              "  <thead>\n",
              "    <tr style=\"text-align: right;\">\n",
              "      <th></th>\n",
              "      <th>title</th>\n",
              "      <th>location</th>\n",
              "      <th>description</th>\n",
              "      <th>requirements</th>\n",
              "      <th>company_profile</th>\n",
              "      <th>employment_type</th>\n",
              "      <th>salary</th>\n",
              "      <th>industry</th>\n",
              "      <th>department</th>\n",
              "      <th>fraudulent</th>\n",
              "    </tr>\n",
              "  </thead>\n",
              "  <tbody>\n",
              "    <tr>\n",
              "      <th>0</th>\n",
              "      <td>Marketing Intern</td>\n",
              "      <td>US, NY, New York</td>\n",
              "      <td>Food52, a fast-growing, James Beard Award-winn...</td>\n",
              "      <td>Experience with content management systems a m...</td>\n",
              "      <td>We're Food52, and we've created a groundbreaki...</td>\n",
              "      <td>Other</td>\n",
              "      <td>NaN</td>\n",
              "      <td>NaN</td>\n",
              "      <td>Marketing</td>\n",
              "      <td>0</td>\n",
              "    </tr>\n",
              "    <tr>\n",
              "      <th>1</th>\n",
              "      <td>Customer Service - Cloud Video Production</td>\n",
              "      <td>NZ, , Auckland</td>\n",
              "      <td>Organised - Focused - Vibrant - Awesome!Do you...</td>\n",
              "      <td>What we expect from you:Your key responsibilit...</td>\n",
              "      <td>90 Seconds, the worlds Cloud Video Production ...</td>\n",
              "      <td>Full-time</td>\n",
              "      <td>NaN</td>\n",
              "      <td>Marketing and Advertising</td>\n",
              "      <td>Success</td>\n",
              "      <td>0</td>\n",
              "    </tr>\n",
              "    <tr>\n",
              "      <th>2</th>\n",
              "      <td>Commissioning Machinery Assistant (CMA)</td>\n",
              "      <td>US, IA, Wever</td>\n",
              "      <td>Our client, located in Houston, is actively se...</td>\n",
              "      <td>Implement pre-commissioning and commissioning ...</td>\n",
              "      <td>Valor Services provides Workforce Solutions th...</td>\n",
              "      <td>NaN</td>\n",
              "      <td>NaN</td>\n",
              "      <td>NaN</td>\n",
              "      <td>NaN</td>\n",
              "      <td>0</td>\n",
              "    </tr>\n",
              "    <tr>\n",
              "      <th>3</th>\n",
              "      <td>Account Executive - Washington DC</td>\n",
              "      <td>US, DC, Washington</td>\n",
              "      <td>THE COMPANY: ESRI – Environmental Systems Rese...</td>\n",
              "      <td>EDUCATION: Bachelor’s or Master’s in GIS, busi...</td>\n",
              "      <td>Our passion for improving quality of life thro...</td>\n",
              "      <td>Full-time</td>\n",
              "      <td>NaN</td>\n",
              "      <td>Computer Software</td>\n",
              "      <td>Sales</td>\n",
              "      <td>0</td>\n",
              "    </tr>\n",
              "    <tr>\n",
              "      <th>4</th>\n",
              "      <td>Bill Review Manager</td>\n",
              "      <td>US, FL, Fort Worth</td>\n",
              "      <td>JOB TITLE: Itemization Review ManagerLOCATION:...</td>\n",
              "      <td>QUALIFICATIONS:RN license in the State of Texa...</td>\n",
              "      <td>SpotSource Solutions LLC is a Global Human Cap...</td>\n",
              "      <td>Full-time</td>\n",
              "      <td>NaN</td>\n",
              "      <td>Hospital &amp; Health Care</td>\n",
              "      <td>NaN</td>\n",
              "      <td>0</td>\n",
              "    </tr>\n",
              "    <tr>\n",
              "      <th>...</th>\n",
              "      <td>...</td>\n",
              "      <td>...</td>\n",
              "      <td>...</td>\n",
              "      <td>...</td>\n",
              "      <td>...</td>\n",
              "      <td>...</td>\n",
              "      <td>...</td>\n",
              "      <td>...</td>\n",
              "      <td>...</td>\n",
              "      <td>...</td>\n",
              "    </tr>\n",
              "    <tr>\n",
              "      <th>28077</th>\n",
              "      <td>Designer, furniture</td>\n",
              "      <td>Paulabury</td>\n",
              "      <td>Worry own pressure stuff together room propert...</td>\n",
              "      <td>Basic knowledge in discussion, no degree requi...</td>\n",
              "      <td>Olson-Williams - Established 2017.</td>\n",
              "      <td>Full-Time</td>\n",
              "      <td>39450-149734</td>\n",
              "      <td>Retail</td>\n",
              "      <td>None</td>\n",
              "      <td>1</td>\n",
              "    </tr>\n",
              "    <tr>\n",
              "      <th>28078</th>\n",
              "      <td>Therapist, speech and language</td>\n",
              "      <td>Moraleschester</td>\n",
              "      <td>Enter bit thing certainly. Earn $5000/week! Im...</td>\n",
              "      <td>Basic knowledge in value, no degree required. ...</td>\n",
              "      <td>Moreno-Pruitt - Established 2016.</td>\n",
              "      <td>Part-Time</td>\n",
              "      <td>49324-111597</td>\n",
              "      <td>IT</td>\n",
              "      <td>None</td>\n",
              "      <td>1</td>\n",
              "    </tr>\n",
              "    <tr>\n",
              "      <th>28079</th>\n",
              "      <td>Therapist, sports</td>\n",
              "      <td>Christinemouth</td>\n",
              "      <td>Visit goal under boy. Earn $5000/week! Immedia...</td>\n",
              "      <td>Basic knowledge in during, no degree required....</td>\n",
              "      <td>Lewis, Patterson and Cowan - Established 1979.</td>\n",
              "      <td>Full-Time</td>\n",
              "      <td>41346-89686</td>\n",
              "      <td>Education</td>\n",
              "      <td>None</td>\n",
              "      <td>1</td>\n",
              "    </tr>\n",
              "    <tr>\n",
              "      <th>28080</th>\n",
              "      <td>Clinical research associate</td>\n",
              "      <td>Lake Meredithberg</td>\n",
              "      <td>Walk money letter few. Earn $5000/week! Immedi...</td>\n",
              "      <td>Basic knowledge in can, no degree required. Fl...</td>\n",
              "      <td>Diaz-Wilkerson - Established 2019.</td>\n",
              "      <td>Contract</td>\n",
              "      <td>65604-149614</td>\n",
              "      <td>Finance</td>\n",
              "      <td>None</td>\n",
              "      <td>1</td>\n",
              "    </tr>\n",
              "    <tr>\n",
              "      <th>28081</th>\n",
              "      <td>Hospital pharmacist</td>\n",
              "      <td>Samanthaland</td>\n",
              "      <td>Other left TV each reveal. Earn $5000/week! Im...</td>\n",
              "      <td>Basic knowledge in pick, no degree required. F...</td>\n",
              "      <td>Sanders, Sanchez and Cox - Established 2024.</td>\n",
              "      <td>Temporary</td>\n",
              "      <td>56437-112301</td>\n",
              "      <td>Real Estate</td>\n",
              "      <td>None</td>\n",
              "      <td>1</td>\n",
              "    </tr>\n",
              "  </tbody>\n",
              "</table>\n",
              "<p>28082 rows × 10 columns</p>\n",
              "</div>\n",
              "    <div class=\"colab-df-buttons\">\n",
              "\n",
              "  <div class=\"colab-df-container\">\n",
              "    <button class=\"colab-df-convert\" onclick=\"convertToInteractive('df-b4bae55e-f4af-4d0b-b47f-fde299d7a0d8')\"\n",
              "            title=\"Convert this dataframe to an interactive table.\"\n",
              "            style=\"display:none;\">\n",
              "\n",
              "  <svg xmlns=\"http://www.w3.org/2000/svg\" height=\"24px\" viewBox=\"0 -960 960 960\">\n",
              "    <path d=\"M120-120v-720h720v720H120Zm60-500h600v-160H180v160Zm220 220h160v-160H400v160Zm0 220h160v-160H400v160ZM180-400h160v-160H180v160Zm440 0h160v-160H620v160ZM180-180h160v-160H180v160Zm440 0h160v-160H620v160Z\"/>\n",
              "  </svg>\n",
              "    </button>\n",
              "\n",
              "  <style>\n",
              "    .colab-df-container {\n",
              "      display:flex;\n",
              "      gap: 12px;\n",
              "    }\n",
              "\n",
              "    .colab-df-convert {\n",
              "      background-color: #E8F0FE;\n",
              "      border: none;\n",
              "      border-radius: 50%;\n",
              "      cursor: pointer;\n",
              "      display: none;\n",
              "      fill: #1967D2;\n",
              "      height: 32px;\n",
              "      padding: 0 0 0 0;\n",
              "      width: 32px;\n",
              "    }\n",
              "\n",
              "    .colab-df-convert:hover {\n",
              "      background-color: #E2EBFA;\n",
              "      box-shadow: 0px 1px 2px rgba(60, 64, 67, 0.3), 0px 1px 3px 1px rgba(60, 64, 67, 0.15);\n",
              "      fill: #174EA6;\n",
              "    }\n",
              "\n",
              "    .colab-df-buttons div {\n",
              "      margin-bottom: 4px;\n",
              "    }\n",
              "\n",
              "    [theme=dark] .colab-df-convert {\n",
              "      background-color: #3B4455;\n",
              "      fill: #D2E3FC;\n",
              "    }\n",
              "\n",
              "    [theme=dark] .colab-df-convert:hover {\n",
              "      background-color: #434B5C;\n",
              "      box-shadow: 0px 1px 3px 1px rgba(0, 0, 0, 0.15);\n",
              "      filter: drop-shadow(0px 1px 2px rgba(0, 0, 0, 0.3));\n",
              "      fill: #FFFFFF;\n",
              "    }\n",
              "  </style>\n",
              "\n",
              "    <script>\n",
              "      const buttonEl =\n",
              "        document.querySelector('#df-b4bae55e-f4af-4d0b-b47f-fde299d7a0d8 button.colab-df-convert');\n",
              "      buttonEl.style.display =\n",
              "        google.colab.kernel.accessAllowed ? 'block' : 'none';\n",
              "\n",
              "      async function convertToInteractive(key) {\n",
              "        const element = document.querySelector('#df-b4bae55e-f4af-4d0b-b47f-fde299d7a0d8');\n",
              "        const dataTable =\n",
              "          await google.colab.kernel.invokeFunction('convertToInteractive',\n",
              "                                                    [key], {});\n",
              "        if (!dataTable) return;\n",
              "\n",
              "        const docLinkHtml = 'Like what you see? Visit the ' +\n",
              "          '<a target=\"_blank\" href=https://colab.research.google.com/notebooks/data_table.ipynb>data table notebook</a>'\n",
              "          + ' to learn more about interactive tables.';\n",
              "        element.innerHTML = '';\n",
              "        dataTable['output_type'] = 'display_data';\n",
              "        await google.colab.output.renderOutput(dataTable, element);\n",
              "        const docLink = document.createElement('div');\n",
              "        docLink.innerHTML = docLinkHtml;\n",
              "        element.appendChild(docLink);\n",
              "      }\n",
              "    </script>\n",
              "  </div>\n",
              "\n",
              "\n",
              "    <div id=\"df-cd928b98-907f-4e34-83e8-c8afc00dadb2\">\n",
              "      <button class=\"colab-df-quickchart\" onclick=\"quickchart('df-cd928b98-907f-4e34-83e8-c8afc00dadb2')\"\n",
              "                title=\"Suggest charts\"\n",
              "                style=\"display:none;\">\n",
              "\n",
              "<svg xmlns=\"http://www.w3.org/2000/svg\" height=\"24px\"viewBox=\"0 0 24 24\"\n",
              "     width=\"24px\">\n",
              "    <g>\n",
              "        <path d=\"M19 3H5c-1.1 0-2 .9-2 2v14c0 1.1.9 2 2 2h14c1.1 0 2-.9 2-2V5c0-1.1-.9-2-2-2zM9 17H7v-7h2v7zm4 0h-2V7h2v10zm4 0h-2v-4h2v4z\"/>\n",
              "    </g>\n",
              "</svg>\n",
              "      </button>\n",
              "\n",
              "<style>\n",
              "  .colab-df-quickchart {\n",
              "      --bg-color: #E8F0FE;\n",
              "      --fill-color: #1967D2;\n",
              "      --hover-bg-color: #E2EBFA;\n",
              "      --hover-fill-color: #174EA6;\n",
              "      --disabled-fill-color: #AAA;\n",
              "      --disabled-bg-color: #DDD;\n",
              "  }\n",
              "\n",
              "  [theme=dark] .colab-df-quickchart {\n",
              "      --bg-color: #3B4455;\n",
              "      --fill-color: #D2E3FC;\n",
              "      --hover-bg-color: #434B5C;\n",
              "      --hover-fill-color: #FFFFFF;\n",
              "      --disabled-bg-color: #3B4455;\n",
              "      --disabled-fill-color: #666;\n",
              "  }\n",
              "\n",
              "  .colab-df-quickchart {\n",
              "    background-color: var(--bg-color);\n",
              "    border: none;\n",
              "    border-radius: 50%;\n",
              "    cursor: pointer;\n",
              "    display: none;\n",
              "    fill: var(--fill-color);\n",
              "    height: 32px;\n",
              "    padding: 0;\n",
              "    width: 32px;\n",
              "  }\n",
              "\n",
              "  .colab-df-quickchart:hover {\n",
              "    background-color: var(--hover-bg-color);\n",
              "    box-shadow: 0 1px 2px rgba(60, 64, 67, 0.3), 0 1px 3px 1px rgba(60, 64, 67, 0.15);\n",
              "    fill: var(--button-hover-fill-color);\n",
              "  }\n",
              "\n",
              "  .colab-df-quickchart-complete:disabled,\n",
              "  .colab-df-quickchart-complete:disabled:hover {\n",
              "    background-color: var(--disabled-bg-color);\n",
              "    fill: var(--disabled-fill-color);\n",
              "    box-shadow: none;\n",
              "  }\n",
              "\n",
              "  .colab-df-spinner {\n",
              "    border: 2px solid var(--fill-color);\n",
              "    border-color: transparent;\n",
              "    border-bottom-color: var(--fill-color);\n",
              "    animation:\n",
              "      spin 1s steps(1) infinite;\n",
              "  }\n",
              "\n",
              "  @keyframes spin {\n",
              "    0% {\n",
              "      border-color: transparent;\n",
              "      border-bottom-color: var(--fill-color);\n",
              "      border-left-color: var(--fill-color);\n",
              "    }\n",
              "    20% {\n",
              "      border-color: transparent;\n",
              "      border-left-color: var(--fill-color);\n",
              "      border-top-color: var(--fill-color);\n",
              "    }\n",
              "    30% {\n",
              "      border-color: transparent;\n",
              "      border-left-color: var(--fill-color);\n",
              "      border-top-color: var(--fill-color);\n",
              "      border-right-color: var(--fill-color);\n",
              "    }\n",
              "    40% {\n",
              "      border-color: transparent;\n",
              "      border-right-color: var(--fill-color);\n",
              "      border-top-color: var(--fill-color);\n",
              "    }\n",
              "    60% {\n",
              "      border-color: transparent;\n",
              "      border-right-color: var(--fill-color);\n",
              "    }\n",
              "    80% {\n",
              "      border-color: transparent;\n",
              "      border-right-color: var(--fill-color);\n",
              "      border-bottom-color: var(--fill-color);\n",
              "    }\n",
              "    90% {\n",
              "      border-color: transparent;\n",
              "      border-bottom-color: var(--fill-color);\n",
              "    }\n",
              "  }\n",
              "</style>\n",
              "\n",
              "      <script>\n",
              "        async function quickchart(key) {\n",
              "          const quickchartButtonEl =\n",
              "            document.querySelector('#' + key + ' button');\n",
              "          quickchartButtonEl.disabled = true;  // To prevent multiple clicks.\n",
              "          quickchartButtonEl.classList.add('colab-df-spinner');\n",
              "          try {\n",
              "            const charts = await google.colab.kernel.invokeFunction(\n",
              "                'suggestCharts', [key], {});\n",
              "          } catch (error) {\n",
              "            console.error('Error during call to suggestCharts:', error);\n",
              "          }\n",
              "          quickchartButtonEl.classList.remove('colab-df-spinner');\n",
              "          quickchartButtonEl.classList.add('colab-df-quickchart-complete');\n",
              "        }\n",
              "        (() => {\n",
              "          let quickchartButtonEl =\n",
              "            document.querySelector('#df-cd928b98-907f-4e34-83e8-c8afc00dadb2 button');\n",
              "          quickchartButtonEl.style.display =\n",
              "            google.colab.kernel.accessAllowed ? 'block' : 'none';\n",
              "        })();\n",
              "      </script>\n",
              "    </div>\n",
              "\n",
              "  <div id=\"id_9dec85c7-26d5-4541-a001-14e3852a8a54\">\n",
              "    <style>\n",
              "      .colab-df-generate {\n",
              "        background-color: #E8F0FE;\n",
              "        border: none;\n",
              "        border-radius: 50%;\n",
              "        cursor: pointer;\n",
              "        display: none;\n",
              "        fill: #1967D2;\n",
              "        height: 32px;\n",
              "        padding: 0 0 0 0;\n",
              "        width: 32px;\n",
              "      }\n",
              "\n",
              "      .colab-df-generate:hover {\n",
              "        background-color: #E2EBFA;\n",
              "        box-shadow: 0px 1px 2px rgba(60, 64, 67, 0.3), 0px 1px 3px 1px rgba(60, 64, 67, 0.15);\n",
              "        fill: #174EA6;\n",
              "      }\n",
              "\n",
              "      [theme=dark] .colab-df-generate {\n",
              "        background-color: #3B4455;\n",
              "        fill: #D2E3FC;\n",
              "      }\n",
              "\n",
              "      [theme=dark] .colab-df-generate:hover {\n",
              "        background-color: #434B5C;\n",
              "        box-shadow: 0px 1px 3px 1px rgba(0, 0, 0, 0.15);\n",
              "        filter: drop-shadow(0px 1px 2px rgba(0, 0, 0, 0.3));\n",
              "        fill: #FFFFFF;\n",
              "      }\n",
              "    </style>\n",
              "    <button class=\"colab-df-generate\" onclick=\"generateWithVariable('combined_df')\"\n",
              "            title=\"Generate code using this dataframe.\"\n",
              "            style=\"display:none;\">\n",
              "\n",
              "  <svg xmlns=\"http://www.w3.org/2000/svg\" height=\"24px\"viewBox=\"0 0 24 24\"\n",
              "       width=\"24px\">\n",
              "    <path d=\"M7,19H8.4L18.45,9,17,7.55,7,17.6ZM5,21V16.75L18.45,3.32a2,2,0,0,1,2.83,0l1.4,1.43a1.91,1.91,0,0,1,.58,1.4,1.91,1.91,0,0,1-.58,1.4L9.25,21ZM18.45,9,17,7.55Zm-12,3A5.31,5.31,0,0,0,4.9,8.1,5.31,5.31,0,0,0,1,6.5,5.31,5.31,0,0,0,4.9,4.9,5.31,5.31,0,0,0,6.5,1,5.31,5.31,0,0,0,8.1,4.9,5.31,5.31,0,0,0,12,6.5,5.46,5.46,0,0,0,6.5,12Z\"/>\n",
              "  </svg>\n",
              "    </button>\n",
              "    <script>\n",
              "      (() => {\n",
              "      const buttonEl =\n",
              "        document.querySelector('#id_9dec85c7-26d5-4541-a001-14e3852a8a54 button.colab-df-generate');\n",
              "      buttonEl.style.display =\n",
              "        google.colab.kernel.accessAllowed ? 'block' : 'none';\n",
              "\n",
              "      buttonEl.onclick = () => {\n",
              "        google.colab.notebook.generateWithVariable('combined_df');\n",
              "      }\n",
              "      })();\n",
              "    </script>\n",
              "  </div>\n",
              "\n",
              "    </div>\n",
              "  </div>\n"
            ],
            "application/vnd.google.colaboratory.intrinsic+json": {
              "type": "dataframe",
              "variable_name": "combined_df",
              "summary": "{\n  \"name\": \"combined_df\",\n  \"rows\": 28082,\n  \"fields\": [\n    {\n      \"column\": \"title\",\n      \"properties\": {\n        \"dtype\": \"category\",\n        \"num_unique_values\": 11925,\n        \"samples\": [\n          \"Data Quality Analyst \",\n          \"Freelance Photographer\",\n          \"Physical Therapist Consultant\"\n        ],\n        \"semantic_type\": \"\",\n        \"description\": \"\"\n      }\n    },\n    {\n      \"column\": \"location\",\n      \"properties\": {\n        \"dtype\": \"category\",\n        \"num_unique_values\": 3254,\n        \"samples\": [\n          \"IL, , Tel-Aviv\",\n          \"US, OH, Columbia\",\n          \"US, MN, 56073\"\n        ],\n        \"semantic_type\": \"\",\n        \"description\": \"\"\n      }\n    },\n    {\n      \"column\": \"description\",\n      \"properties\": {\n        \"dtype\": \"string\",\n        \"num_unique_values\": 24987,\n        \"samples\": [\n          \"Common Purpose, Uncommon Opportunity. Everyone at Visa works with one goal in mind \\u2013 making sure that Visa is the best way to pay and be paid, for everyone everywhere . This is our global vision and the\\u00a0common purpose\\u00a0that unites the entire Visa team. As a global payments technology company, tech is at the heart of what we do: Our VisaNet network processes over 13,000 transactions per second for people and businesses around the world, enabling them to use digital currency instead of cash and checks. We are also global advocates for financial inclusion, working with partners around the world to help those who lack access to financial services join the global economy. Visa\\u2019s sponsorships, including the Olympics and FIFA\\u2122 World Cup, celebrate teamwork, diversity, and excellence throughout the world. If you have a passion to make a difference in the lives of people around the world, Visa offers anuncommon opportunity\\u00a0to build a strong, thriving career. Visa is fueled by our team of talented employees who continuously raise the bar on delivering the convenience and security of digital currency to people all over the world. Join our team and find out how Visa is everywhere you want to be.\\u00a0\",\n          \"The Customer Service Associate will be based in Peterborough, ON\\u00a0. The right candidate will be an integral part of our talented team, supporting our continued growth.Responsibilities:Perform various Mail Center activities (sorting, metering, folding, inserting, delivery, pickup, etc.)Lift heavy boxes, files or paper when neededMaintain the highest levels of customer care while demonstrating a friendly and cooperative attitudeDemonstrate flexibility in satisfying customer demands in a high volume, production environmentConsistently adhere to business procedure guidelinesAdhere to all safety proceduresTake direction from supervisor or site managerMaintain all logs and reporting documentation; attention to detailParticipate in cross-training and perform other duties as assigned (Filing, outgoing shipments, etc)Operating mailing, copy or scanning equipmentShipping &amp; ReceivingHandle time-sensitive material like confidential, urgent packagesPerform other tasks as assignedScanning incoming mail to recipientsPerform file purges and pullsCreate files and ship filesProvide backfill when neededEnter information daily into spreadsheetsIdentify charges and match them to billingSort and deliver mail, small packages\",\n          \"On behalf of our client, a\\u00a0European strategic communication and marketing company with offices in London and Athens, we are looking for a Senior Advisor based in Athens.Main Responsibilities:- Development of branding, marketing and sales strategies and campaigns- Implementation of branding and marketing campaigns, roll out of marketing actions, reward and loyalty programs, sales activation strategy and programmes, comprehensive communications services- Work with project lead to grow client business, develop proposals and formalize scopes of work for those efforts- Generate new accounts and increase the potential leads of the company- Lead the development of services based on the targets/objectives set by the client, he/she will be called to develop the strategy and actions to reach these results.- Developing concrete and to the point presentations is essential. Presentation and selling skills are necessary. Network of contacts in companies and in social cycle are crucial.- Own specific work streams and manage all components related (content, client, team, financial performance etc.)- Financial Monitoring\"\n        ],\n        \"semantic_type\": \"\",\n        \"description\": \"\"\n      }\n    },\n    {\n      \"column\": \"requirements\",\n      \"properties\": {\n        \"dtype\": \"category\",\n        \"num_unique_values\": 13125,\n        \"samples\": [\n          \"A minimum of a High School diploma or equivalentExperience making basic and minor repairs: painting, electrical, plumbing, cleaning, etc.Must be able to work days, evenings, and weekends as needed\",\n          \"A strong foundation in programmingJavascript, HTML5 expertise\\u00a0Expertise with Open Source Chart / Maps API/Libraries\\u00a0Passion for writing great codeUI/UX design knowledge and experience\",\n          \"Clean Drug/Clean Backgroun\"\n        ],\n        \"semantic_type\": \"\",\n        \"description\": \"\"\n      }\n    },\n    {\n      \"column\": \"company_profile\",\n      \"properties\": {\n        \"dtype\": \"category\",\n        \"num_unique_values\": 11709,\n        \"samples\": [\n          \"Henson-Haynes - Established 2004.\",\n          \"Joseph, Adams and Shaffer - Established 1979.\",\n          \"Adkins Ltd - Established 1980.\"\n        ],\n        \"semantic_type\": \"\",\n        \"description\": \"\"\n      }\n    },\n    {\n      \"column\": \"employment_type\",\n      \"properties\": {\n        \"dtype\": \"category\",\n        \"num_unique_values\": 11,\n        \"samples\": [\n          \"Full Time\",\n          \"Other\",\n          \"Part-Time\"\n        ],\n        \"semantic_type\": \"\",\n        \"description\": \"\"\n      }\n    },\n    {\n      \"column\": \"salary\",\n      \"properties\": {\n        \"dtype\": \"category\",\n        \"num_unique_values\": 10921,\n        \"samples\": [\n          \"31024-88021\",\n          \"51573-89727\",\n          \"66908-77432\"\n        ],\n        \"semantic_type\": \"\",\n        \"description\": \"\"\n      }\n    },\n    {\n      \"column\": \"industry\",\n      \"properties\": {\n        \"dtype\": \"category\",\n        \"num_unique_values\": 135,\n        \"samples\": [\n          \"Law Practice\",\n          \"Civic & Social Organization\",\n          \"Professional Training & Coaching\"\n        ],\n        \"semantic_type\": \"\",\n        \"description\": \"\"\n      }\n    },\n    {\n      \"column\": \"department\",\n      \"properties\": {\n        \"dtype\": \"category\",\n        \"num_unique_values\": 1358,\n        \"samples\": [\n          \"Product\",\n          \"LEEDS\",\n          \"TD\"\n        ],\n        \"semantic_type\": \"\",\n        \"description\": \"\"\n      }\n    },\n    {\n      \"column\": \"fraudulent\",\n      \"properties\": {\n        \"dtype\": \"number\",\n        \"std\": 0,\n        \"min\": 0,\n        \"max\": 1,\n        \"num_unique_values\": 2,\n        \"samples\": [\n          1,\n          0\n        ],\n        \"semantic_type\": \"\",\n        \"description\": \"\"\n      }\n    }\n  ]\n}"
            }
          },
          "metadata": {},
          "execution_count": 14
        }
      ]
    },
    {
      "cell_type": "code",
      "source": [
        "df=combined_df"
      ],
      "metadata": {
        "id": "NTxJrD7HPm3t"
      },
      "execution_count": null,
      "outputs": []
    },
    {
      "cell_type": "markdown",
      "source": [
        "Data Visualization"
      ],
      "metadata": {
        "id": "8F6Fwl0egZzA"
      }
    },
    {
      "cell_type": "code",
      "source": [
        "fraud_counts = df['fraudulent'].value_counts()\n",
        "labels = ['Real (0)', 'Fraudulent (1)']\n",
        "colors = ['lightgreen', 'salmon']\n",
        "\n",
        "plt.figure(figsize=(6, 6))\n",
        "plt.pie(fraud_counts, labels=labels, autopct='%1.1f%%', colors=colors, startangle=90)\n",
        "plt.title(\"Fraud vs Real Job Distribution\")\n",
        "plt.axis('equal')  # Equal aspect ratio ensures pie is drawn as a circle.\n",
        "plt.show()"
      ],
      "metadata": {
        "colab": {
          "base_uri": "https://localhost:8080/",
          "height": 521
        },
        "id": "KDR_HE9xgc-V",
        "outputId": "0f795d1a-5bd4-4008-9324-b06c7587d572"
      },
      "execution_count": null,
      "outputs": [
        {
          "output_type": "display_data",
          "data": {
            "text/plain": [
              "<Figure size 600x600 with 1 Axes>"
            ],
            "image/png": "[encoded data removed]"
          },
          "metadata": {}
        }
      ]
    },
    {
      "cell_type": "markdown",
      "source": [
        "Data Preprocessing"
      ],
      "metadata": {
        "id": "mGchXkEgfFYr"
      }
    },
    {
      "cell_type": "code",
      "source": [
        "#reshuffle\n",
        "\n",
        "df = df.sample(frac=1, random_state=42).reset_index(drop=True)"
      ],
      "metadata": {
        "id": "_nsG2CpVJ1rH"
      },
      "execution_count": null,
      "outputs": []
    },
    {
      "cell_type": "code",
      "source": [
        "def get_median(s):\n",
        "    try:\n",
        "        low, high = map(int, s.split('-'))\n",
        "        return (low + high) / 2\n",
        "    except:\n",
        "        return None  # or 0 if you prefer\n",
        "\n",
        "\n"
      ],
      "metadata": {
        "id": "GU7jm44yPEUy"
      },
      "execution_count": null,
      "outputs": []
    },
    {
      "cell_type": "code",
      "source": [
        "df['median_salary'] = df['salary'].apply(get_median)"
      ],
      "metadata": {
        "id": "zGwjSzqjPNe4"
      },
      "execution_count": null,
      "outputs": []
    },
    {
      "cell_type": "code",
      "source": [
        "\n",
        "df = df.drop('salary', axis=1)"
      ],
      "metadata": {
        "id": "qM_kZ6lDPTta"
      },
      "execution_count": null,
      "outputs": []
    },
    {
      "cell_type": "code",
      "source": [
        "df['normalized_salary'] = (df['median_salary'] - df['median_salary'].min()) / (df['median_salary'].max() - df['median_salary'].min())"
      ],
      "metadata": {
        "id": "qsBnzZ22PXdq"
      },
      "execution_count": null,
      "outputs": []
    },
    {
      "cell_type": "code",
      "source": [
        "df = df.drop('median_salary', axis=1)"
      ],
      "metadata": {
        "id": "31zAPmvHP0cB"
      },
      "execution_count": null,
      "outputs": []
    },
    {
      "cell_type": "code",
      "source": [
        "df.dtypes\n"
      ],
      "metadata": {
        "colab": {
          "base_uri": "https://localhost:8080/",
          "height": 398
        },
        "id": "-6Q4BXBVPeVP",
        "outputId": "322e7b3d-a79e-466d-d999-1682e5996464"
      },
      "execution_count": null,
      "outputs": [
        {
          "output_type": "execute_result",
          "data": {
            "text/plain": [
              "title                 object\n",
              "location              object\n",
              "description           object\n",
              "requirements          object\n",
              "company_profile       object\n",
              "employment_type       object\n",
              "industry              object\n",
              "department            object\n",
              "fraudulent             int64\n",
              "normalized_salary    float64\n",
              "dtype: object"
            ],
            "text/html": [
              "<div>\n",
              "<style scoped>\n",
              "    .dataframe tbody tr th:only-of-type {\n",
              "        vertical-align: middle;\n",
              "    }\n",
              "\n",
              "    .dataframe tbody tr th {\n",
              "        vertical-align: top;\n",
              "    }\n",
              "\n",
              "    .dataframe thead th {\n",
              "        text-align: right;\n",
              "    }\n",
              "</style>\n",
              "<table border=\"1\" class=\"dataframe\">\n",
              "  <thead>\n",
              "    <tr style=\"text-align: right;\">\n",
              "      <th></th>\n",
              "      <th>0</th>\n",
              "    </tr>\n",
              "  </thead>\n",
              "  <tbody>\n",
              "    <tr>\n",
              "      <th>title</th>\n",
              "      <td>object</td>\n",
              "    </tr>\n",
              "    <tr>\n",
              "      <th>location</th>\n",
              "      <td>object</td>\n",
              "    </tr>\n",
              "    <tr>\n",
              "      <th>description</th>\n",
              "      <td>object</td>\n",
              "    </tr>\n",
              "    <tr>\n",
              "      <th>requirements</th>\n",
              "      <td>object</td>\n",
              "    </tr>\n",
              "    <tr>\n",
              "      <th>company_profile</th>\n",
              "      <td>object</td>\n",
              "    </tr>\n",
              "    <tr>\n",
              "      <th>employment_type</th>\n",
              "      <td>object</td>\n",
              "    </tr>\n",
              "    <tr>\n",
              "      <th>industry</th>\n",
              "      <td>object</td>\n",
              "    </tr>\n",
              "    <tr>\n",
              "      <th>department</th>\n",
              "      <td>object</td>\n",
              "    </tr>\n",
              "    <tr>\n",
              "      <th>fraudulent</th>\n",
              "      <td>int64</td>\n",
              "    </tr>\n",
              "    <tr>\n",
              "      <th>normalized_salary</th>\n",
              "      <td>float64</td>\n",
              "    </tr>\n",
              "  </tbody>\n",
              "</table>\n",
              "</div><br><label><b>dtype:</b> object</label>"
            ]
          },
          "metadata": {},
          "execution_count": 23
        }
      ]
    },
    {
      "cell_type": "code",
      "source": [
        "# Text columns (unstructured data)\n",
        "text_features = ['title',\n",
        "    'location',\n",
        "    'description',\n",
        "    'requirements',\n",
        "    'company_profile']\n",
        "\n",
        "# Categorical columns (labels/categories)\n",
        "cat_features = ['employment_type',\n",
        "    'industry',\n",
        "    'department']\n",
        "\n",
        "#numerical column\n",
        "numeric_features = ['normalized_salary']"
      ],
      "metadata": {
        "id": "mzDnffMSPvSY"
      },
      "execution_count": null,
      "outputs": []
    },
    {
      "cell_type": "code",
      "source": [
        "df[text_features] = df[text_features].fillna('')\n",
        "df[cat_features] = df[cat_features].fillna('Unknown')\n",
        "\n",
        "df[numeric_features] = df[numeric_features].fillna(0)"
      ],
      "metadata": {
        "id": "jNB5BjmXQo92"
      },
      "execution_count": null,
      "outputs": []
    },
    {
      "cell_type": "code",
      "source": [
        "\n",
        "# Download required data\n",
        "nltk.download('stopwords')\n",
        "nltk.download('wordnet')\n",
        "nltk.download('omw-1.4')\n",
        "\n",
        "# Setup\n",
        "stop_words = set(stopwords.words('english'))\n",
        "lemmatizer = WordNetLemmatizer()\n",
        "\n",
        "def clean_text(text):\n",
        "    # Remove URLs\n",
        "    text = re.sub(r'http\\S+|www.\\S+', '', text)\n",
        "\n",
        "    # Remove digits and punctuation\n",
        "    text = re.sub(r'[\\d]+', '', text)\n",
        "    text = text.translate(str.maketrans('', '', string.punctuation))\n",
        "\n",
        "    # Remove newlines and extra spaces\n",
        "    text = text.replace('\\n', ' ').replace('\\r', ' ')\n",
        "    text = re.sub(r'\\s+', ' ', text)\n",
        "\n",
        "    # Convert to lowercase\n",
        "    text = text.lower()\n",
        "\n",
        "    # Remove stopwords and lemmatize\n",
        "    words = text.split()\n",
        "    filtered_words = [lemmatizer.lemmatize(word) for word in words if word not in stop_words]\n",
        "\n",
        "    return ' '.join(filtered_words)\n"
      ],
      "metadata": {
        "colab": {
          "base_uri": "https://localhost:8080/"
        },
        "id": "MNxx4M5-Qr3j",
        "outputId": "1c16d918-884b-47a4-e3c8-5737842c5905"
      },
      "execution_count": null,
      "outputs": [
        {
          "output_type": "stream",
          "name": "stderr",
          "text": [
            "[nltk_data] Downloading package stopwords to /root/nltk_data...\n",
            "[nltk_data]   Unzipping corpora/stopwords.zip.\n",
            "[nltk_data] Downloading package wordnet to /root/nltk_data...\n",
            "[nltk_data] Downloading package omw-1.4 to /root/nltk_data...\n"
          ]
        }
      ]
    },
    {
      "cell_type": "code",
      "source": [
        "for col in text_features:\n",
        "    df[col] = df[col].astype(str).apply(clean_text)"
      ],
      "metadata": {
        "id": "hlFLmO2HQwmp"
      },
      "execution_count": null,
      "outputs": []
    },
    {
      "cell_type": "code",
      "source": [
        "# tfidf = TfidfVectorizer(max_features=200)\n",
        "# text_vectors = [tfidf.fit_transform(df[col]) for col in text_features]\n",
        "# X_text = hstack(text_vectors)\n",
        "df['combined_text'] = (\n",
        "    df['title'] + ' ' +\n",
        "    df['location'] + ' ' +\n",
        "    df['description'] + ' ' +\n",
        "    df['requirements'] + ' ' +\n",
        "    df['company_profile']\n",
        ")\n",
        "\n",
        "df['combined_text'] = df['combined_text'].apply(clean_text)\n",
        "\n",
        "tfidf = TfidfVectorizer(max_features=200)\n",
        "X_text = tfidf.fit_transform(df['combined_text'])\n"
      ],
      "metadata": {
        "id": "1eaYqEBFQ0vX"
      },
      "execution_count": null,
      "outputs": []
    },
    {
      "cell_type": "code",
      "source": [
        "cat_features = ['employment_type', 'industry', 'department']\n",
        "\n",
        "ohe = OneHotEncoder(handle_unknown='ignore', sparse_output=True)\n",
        "\n",
        "X_cat = ohe.fit_transform(df[cat_features])"
      ],
      "metadata": {
        "id": "Lk9ehnf2RBGa"
      },
      "execution_count": null,
      "outputs": []
    },
    {
      "cell_type": "code",
      "source": [
        "X_num = csr_matrix(df[numeric_features].values)"
      ],
      "metadata": {
        "id": "i-8V6sahRVoh"
      },
      "execution_count": null,
      "outputs": []
    },
    {
      "cell_type": "code",
      "source": [
        "X_final = hstack([X_text, X_cat, X_num])"
      ],
      "metadata": {
        "id": "VvtOHDdeRaWr"
      },
      "execution_count": null,
      "outputs": []
    },
    {
      "cell_type": "code",
      "source": [
        "y=df['fraudulent']"
      ],
      "metadata": {
        "id": "IskNoiM9RcOO"
      },
      "execution_count": null,
      "outputs": []
    },
    {
      "cell_type": "code",
      "source": [
        "df_majority = df[df['fraudulent'] == 0]\n",
        "df_minority = df[df['fraudulent'] == 1]\n",
        "print(df_majority.shape)\n",
        "print(df_minority.shape)"
      ],
      "metadata": {
        "colab": {
          "base_uri": "https://localhost:8080/"
        },
        "id": "n6kpyCh6RmiU",
        "outputId": "2e1c8d2a-5a70-436b-a892-b15fa909df4c"
      },
      "execution_count": null,
      "outputs": [
        {
          "output_type": "stream",
          "name": "stdout",
          "text": [
            "(17149, 11)\n",
            "(10933, 11)\n"
          ]
        }
      ]
    },
    {
      "cell_type": "markdown",
      "source": [
        "Defining models"
      ],
      "metadata": {
        "id": "x-NuWsd7e2oa"
      }
    },
    {
      "cell_type": "code",
      "source": [
        "# Define all models\n",
        "models = {\n",
        "    \"Random Forest\": RandomForestClassifier(class_weight='balanced', random_state=42),\n",
        "    \"Logistic Regression\": LogisticRegression(class_weight='balanced', max_iter=1000),\n",
        "    \"Naive Bayes\": MultinomialNB(),\n",
        "    \"Decision Tree\": DecisionTreeClassifier(class_weight='balanced', random_state=42),\n",
        "    \"XGBoost\": XGBClassifier(eval_metric='logloss', random_state=42),\n",
        "    \"AdaBoost\": AdaBoostClassifier(random_state=42),\n",
        "    \"Gradient Boosting\": GradientBoostingClassifier(random_state=42),\n",
        "    \"Linear SVC\": LinearSVC()\n",
        "}"
      ],
      "metadata": {
        "id": "4aVcvQh-S5YD"
      },
      "execution_count": null,
      "outputs": []
    },
    {
      "cell_type": "markdown",
      "source": [
        "Training & Evaluation using K-fold with different models"
      ],
      "metadata": {
        "id": "GbiEb_zuemcX"
      }
    },
    {
      "cell_type": "code",
      "source": [
        "# Initialize Stratified K-Fold\n",
        "skf = StratifiedKFold(n_splits=5, shuffle=True, random_state=42)\n",
        "\n",
        "# Track performance\n",
        "for model_name, model in models.items():\n",
        "    print(f\"\\nModel: {model_name}\")\n",
        "    accuracies = []\n",
        "\n",
        "    for fold, (train_idx, val_idx) in enumerate(skf.split(X_final, y), 1):\n",
        "        X_train, y_train = X_final[train_idx], y[train_idx]\n",
        "        X_val, y_val = X_final[val_idx], y[val_idx]\n",
        "\n",
        "        # Oversample only on the training set\n",
        "        ros = RandomOverSampler(random_state=42)\n",
        "        X_resampled, y_resampled = ros.fit_resample(X_train, y_train)\n",
        "\n",
        "        # Train model\n",
        "        model.fit(X_resampled, y_resampled)\n",
        "\n",
        "        # Predict and evaluate\n",
        "        y_pred = model.predict(X_val)\n",
        "        acc = accuracy_score(y_val, y_pred)\n",
        "        accuracies.append(acc)\n",
        "\n",
        "        print(f\"Fold {fold} Accuracy: {acc:.4f}\")\n",
        "\n",
        "    print(f\"\\nMean Accuracy for {model_name}: {np.mean(accuracies):.4f}\")"
      ],
      "metadata": {
        "colab": {
          "base_uri": "https://localhost:8080/"
        },
        "id": "v9OA1XPkS8Pf",
        "outputId": "c33aa104-2443-43bb-95c7-f8f571ca908b"
      },
      "execution_count": null,
      "outputs": [
        {
          "output_type": "stream",
          "name": "stdout",
          "text": [
            "\n",
            "Model: Random Forest\n",
            "Fold 1 Accuracy: 0.9788\n",
            "Fold 2 Accuracy: 0.9831\n",
            "Fold 3 Accuracy: 0.9822\n",
            "Fold 4 Accuracy: 0.9820\n",
            "Fold 5 Accuracy: 0.9827\n",
            "\n",
            "Mean Accuracy for Random Forest: 0.9818\n",
            "\n",
            "Model: Logistic Regression\n",
            "Fold 1 Accuracy: 0.9715\n",
            "Fold 2 Accuracy: 0.9779\n",
            "Fold 3 Accuracy: 0.9747\n",
            "Fold 4 Accuracy: 0.9776\n",
            "Fold 5 Accuracy: 0.9765\n",
            "\n",
            "Mean Accuracy for Logistic Regression: 0.9756\n",
            "\n",
            "Model: Naive Bayes\n",
            "Fold 1 Accuracy: 0.9624\n",
            "Fold 2 Accuracy: 0.9674\n",
            "Fold 3 Accuracy: 0.9690\n",
            "Fold 4 Accuracy: 0.9674\n",
            "Fold 5 Accuracy: 0.9671\n",
            "\n",
            "Mean Accuracy for Naive Bayes: 0.9667\n",
            "\n",
            "Model: Decision Tree\n",
            "Fold 1 Accuracy: 0.9745\n",
            "Fold 2 Accuracy: 0.9753\n",
            "Fold 3 Accuracy: 0.9742\n",
            "Fold 4 Accuracy: 0.9765\n",
            "Fold 5 Accuracy: 0.9779\n",
            "\n",
            "Mean Accuracy for Decision Tree: 0.9757\n",
            "\n",
            "Model: XGBoost\n",
            "Fold 1 Accuracy: 0.9827\n",
            "Fold 2 Accuracy: 0.9874\n",
            "Fold 3 Accuracy: 0.9854\n",
            "Fold 4 Accuracy: 0.9847\n",
            "Fold 5 Accuracy: 0.9833\n",
            "\n",
            "Mean Accuracy for XGBoost: 0.9847\n",
            "\n",
            "Model: AdaBoost\n",
            "Fold 1 Accuracy: 0.9628\n",
            "Fold 2 Accuracy: 0.9660\n",
            "Fold 3 Accuracy: 0.9715\n",
            "Fold 4 Accuracy: 0.9663\n",
            "Fold 5 Accuracy: 0.9692\n",
            "\n",
            "Mean Accuracy for AdaBoost: 0.9672\n",
            "\n",
            "Model: Gradient Boosting\n",
            "Fold 1 Accuracy: 0.9763\n",
            "Fold 2 Accuracy: 0.9808\n",
            "Fold 3 Accuracy: 0.9808\n",
            "Fold 4 Accuracy: 0.9804\n",
            "Fold 5 Accuracy: 0.9804\n",
            "\n",
            "Mean Accuracy for Gradient Boosting: 0.9797\n",
            "\n",
            "Model: Linear SVC\n",
            "Fold 1 Accuracy: 0.9770\n",
            "Fold 2 Accuracy: 0.9783\n",
            "Fold 3 Accuracy: 0.9769\n",
            "Fold 4 Accuracy: 0.9792\n",
            "Fold 5 Accuracy: 0.9763\n",
            "\n",
            "Mean Accuracy for Linear SVC: 0.9775\n"
          ]
        }
      ]
    },
    {
      "cell_type": "markdown",
      "source": [
        "Training & Evaluation of chunks of data with different models"
      ],
      "metadata": {
        "id": "HkcfvFO0edQK"
      }
    },
    {
      "cell_type": "code",
      "source": [
        "\n",
        "# Split data into train and test sets (80% train, 20% test)\n",
        "X_train, X_test, y_train, y_test = train_test_split(X_final, y, test_size=0.2, random_state=42)\n",
        "\n",
        "\n",
        "# Define number of chunks = number of models\n",
        "n_chunks = 5\n",
        "chunk_size = X_train.shape[0] // n_chunks\n",
        "\n",
        "# Split into chunks for training\n",
        "chunks = [\n",
        "    (X_train[i*chunk_size:(i+1)*chunk_size],\n",
        "     y_train[i*chunk_size:(i+1)*chunk_size])\n",
        "    for i in range(n_chunks)\n",
        "]\n",
        "\n",
        "\n",
        "# Train and evaluate each model\n",
        "for (name, model), (chunk_X, chunk_y) in zip(models.items(), chunks):\n",
        "    print(f\"\\nModel: {name}\")\n",
        "\n",
        "    # Train the model on each chunk\n",
        "    model.fit(chunk_X, chunk_y)\n",
        "\n",
        "    # Make predictions on the test set\n",
        "    preds = model.predict(X_test)\n",
        "\n",
        "    # Evaluate the model on the test set\n",
        "    acc = accuracy_score(y_test, preds)\n",
        "\n",
        "    print(f\"Accuracy on {name}: {acc:.2f}\")\n",
        "    print(f\"\\n{name} - Classification Report:\\n\")\n",
        "    print(classification_report(y_test, preds))\n",
        "    #Heatmap\n",
        "    cm = confusion_matrix(y_test, preds)\n",
        "    sns.heatmap(cm, annot=True, fmt='d', cmap='Blues')\n",
        "    plt.xlabel('Predicted')\n",
        "    plt.ylabel('True')\n",
        "    plt.title('Confusion Matrix Heatmap - {}'.format(name))\n",
        "    plt.show()\n",
        "\n"
      ],
      "metadata": {
        "colab": {
          "base_uri": "https://localhost:8080/",
          "height": 1000
        },
        "id": "XPO1hb0lTCYz",
        "outputId": "09d64f80-c553-48d3-9371-02dd0da13e83"
      },
      "execution_count": null,
      "outputs": [
        {
          "output_type": "stream",
          "name": "stdout",
          "text": [
            "\n",
            "Model: Random Forest\n",
            "Accuracy on Random Forest: 0.97\n",
            "\n",
            "Random Forest - Classification Report:\n",
            "\n",
            "              precision    recall  f1-score   support\n",
            "\n",
            "           0       0.96      1.00      0.98      3469\n",
            "           1       1.00      0.93      0.96      2148\n",
            "\n",
            "    accuracy                           0.97      5617\n",
            "   macro avg       0.98      0.97      0.97      5617\n",
            "weighted avg       0.97      0.97      0.97      5617\n",
            "\n"
          ]
        },
        {
          "output_type": "display_data",
          "data": {
            "text/plain": [
              "<Figure size 640x480 with 2 Axes>"
            ],
            "image/png": "[encoded data removed]"
          },
          "metadata": {}
        },
        {
          "output_type": "stream",
          "name": "stdout",
          "text": [
            "\n",
            "Model: Logistic Regression\n",
            "Accuracy on Logistic Regression: 0.97\n",
            "\n",
            "Logistic Regression - Classification Report:\n",
            "\n",
            "              precision    recall  f1-score   support\n",
            "\n",
            "           0       0.96      0.99      0.98      3469\n",
            "           1       0.99      0.93      0.96      2148\n",
            "\n",
            "    accuracy                           0.97      5617\n",
            "   macro avg       0.97      0.96      0.97      5617\n",
            "weighted avg       0.97      0.97      0.97      5617\n",
            "\n"
          ]
        },
        {
          "output_type": "display_data",
          "data": {
            "text/plain": [
              "<Figure size 640x480 with 2 Axes>"
            ],
            "image/png": "[encoded data removed]"
          },
          "metadata": {}
        },
        {
          "output_type": "stream",
          "name": "stdout",
          "text": [
            "\n",
            "Model: Naive Bayes\n",
            "Accuracy on Naive Bayes: 0.97\n",
            "\n",
            "Naive Bayes - Classification Report:\n",
            "\n",
            "              precision    recall  f1-score   support\n",
            "\n",
            "           0       0.95      1.00      0.97      3469\n",
            "           1       1.00      0.91      0.95      2148\n",
            "\n",
            "    accuracy                           0.97      5617\n",
            "   macro avg       0.97      0.96      0.96      5617\n",
            "weighted avg       0.97      0.97      0.97      5617\n",
            "\n"
          ]
        },
        {
          "output_type": "display_data",
          "data": {
            "text/plain": [
              "<Figure size 640x480 with 2 Axes>"
            ],
            "image/png": "[encoded data removed]"
          },
          "metadata": {}
        },
        {
          "output_type": "stream",
          "name": "stdout",
          "text": [
            "\n",
            "Model: Decision Tree\n",
            "Accuracy on Decision Tree: 0.97\n",
            "\n",
            "Decision Tree - Classification Report:\n",
            "\n",
            "              precision    recall  f1-score   support\n",
            "\n",
            "           0       0.97      0.98      0.97      3469\n",
            "           1       0.96      0.95      0.96      2148\n",
            "\n",
            "    accuracy                           0.97      5617\n",
            "   macro avg       0.97      0.97      0.97      5617\n",
            "weighted avg       0.97      0.97      0.97      5617\n",
            "\n"
          ]
        },
        {
          "output_type": "display_data",
          "data": {
            "text/plain": [
              "<Figure size 640x480 with 2 Axes>"
            ],
            "image/png": "[encoded data removed]"
          },
          "metadata": {}
        },
        {
          "output_type": "stream",
          "name": "stdout",
          "text": [
            "\n",
            "Model: XGBoost\n",
            "Accuracy on XGBoost: 0.98\n",
            "\n",
            "XGBoost - Classification Report:\n",
            "\n",
            "              precision    recall  f1-score   support\n",
            "\n",
            "           0       0.97      1.00      0.98      3469\n",
            "           1       1.00      0.95      0.97      2148\n",
            "\n",
            "    accuracy                           0.98      5617\n",
            "   macro avg       0.98      0.97      0.98      5617\n",
            "weighted avg       0.98      0.98      0.98      5617\n",
            "\n"
          ]
        },
        {
          "output_type": "display_data",
          "data": {
            "text/plain": [
              "<Figure size 640x480 with 2 Axes>"
            ],
            "image/png": "[encoded data removed]"
          },
          "metadata": {}
        }
      ]
    },
    {
      "cell_type": "markdown",
      "source": [
        "Ensembling models:\n",
        "*   Random Forest\n",
        "*   Logistic Regression\n",
        "*   XgBoost Classifier\n",
        "\n"
      ],
      "metadata": {
        "id": "BWeuGbgMd3b8"
      }
    },
    {
      "cell_type": "code",
      "source": [
        "rf = RandomForestClassifier(random_state=42)\n",
        "lr = LogisticRegression(max_iter=1000, random_state=42)\n",
        "xgb = XGBClassifier(eval_metric='logloss', random_state=42)\n",
        "voting_clf = VotingClassifier(\n",
        "    estimators=[\n",
        "        ('rf', rf),\n",
        "        ('lr', lr),\n",
        "        ('xgb', xgb)\n",
        "    ],\n",
        "    voting='hard'  # or 'soft' if you want probability averaging (all classifiers must support predict_proba)\n",
        ")\n",
        "voting_clf.fit(X_train, y_train)   # Train on balanced data\n",
        "preds = voting_clf.predict(X_test)         # Predict on original test data\n",
        "\n",
        "# Evaluate\n",
        "print(\"Voting Classifier Accuracy:\", accuracy_score(y_test, preds))\n",
        "print(\"\\nClassification Report:\\n\", classification_report(y_test, preds))\n",
        "\n",
        "cm = confusion_matrix(y_test, preds)  # preds from your model\n",
        "sns.heatmap(cm, annot=True, fmt='d', cmap='Blues')\n",
        "plt.xlabel('Predicted')\n",
        "plt.ylabel('True')\n",
        "plt.title('Confusion Matrix Heatmap - Ensemble Approach')\n",
        "plt.show()\n"
      ],
      "metadata": {
        "colab": {
          "base_uri": "https://localhost:8080/",
          "height": 680
        },
        "id": "CPV0JlUYUIe2",
        "outputId": "1e2e65c9-17fa-4cde-cd70-f530a7e3a24d"
      },
      "execution_count": null,
      "outputs": [
        {
          "metadata": {
            "tags": null
          },
          "name": "stdout",
          "output_type": "stream",
          "text": [
            "Voting Classifier Accuracy: 0.9823749332383834\n",
            "\n",
            "Classification Report:\n",
            "               precision    recall  f1-score   support\n",
            "\n",
            "           0       0.97      1.00      0.99      3469\n",
            "           1       1.00      0.95      0.98      2148\n",
            "\n",
            "    accuracy                           0.98      5617\n",
            "   macro avg       0.99      0.98      0.98      5617\n",
            "weighted avg       0.98      0.98      0.98      5617\n",
            "\n"
          ]
        },
        {
          "data": {
            "image/png": "[encoded data removed]",
            "text/plain": [
              "<Figure size 640x480 with 2 Axes>"
            ]
          },
          "metadata": {},
          "output_type": "display_data"
        }
      ]
    },
    {
      "cell_type": "code",
      "source": [
        "import pickle\n",
        "\n",
        "# Save the model, TF-IDF, and OneHotEncoder\n",
        "pickle.dump(voting_clf, open('/content/fraud_detection_model.pkl', 'wb'))\n",
        "pickle.dump(tfidf, open('/content/tfidf_vectorizer.pkl', 'wb'))\n",
        "pickle.dump(ohe, open('/content/one_hot_encoder.pkl', 'wb'))\n",
        "\n",
        "print(\"Model, TF-IDF, and OneHotEncoder have been saved!\")\n",
        "from google.colab import files\n",
        "\n",
        "# Download the saved files\n",
        "files.download('/content/fraud_detection_model.pkl')\n",
        "files.download('/content/tfidf_vectorizer.pkl')\n",
        "files.download('/content/one_hot_encoder.pkl')\n",
        "\n",
        "\n"
      ],
      "metadata": {
        "id": "yv0YaEL4nFQh",
        "colab": {
          "base_uri": "https://localhost:8080/",
          "height": 34
        },
        "outputId": "efa0804c-10e1-4d74-846b-a6b5f32a3bdc"
      },
      "execution_count": null,
      "outputs": [
        {
          "metadata": {
            "tags": null
          },
          "name": "stdout",
          "output_type": "stream",
          "text": [
            "Model, TF-IDF, and OneHotEncoder have been saved!\n"
          ]
        },
        {
          "data": {
            "application/javascript": [
              "\n",
              "    async function download(id, filename, size) {\n",
              "      if (!google.colab.kernel.accessAllowed) {\n",
              "        return;\n",
              "      }\n",
              "      const div = document.createElement('div');\n",
              "      const label = document.createElement('label');\n",
              "      label.textContent = `Downloading \"${filename}\": `;\n",
              "      div.appendChild(label);\n",
              "      const progress = document.createElement('progress');\n",
              "      progress.max = size;\n",
              "      div.appendChild(progress);\n",
              "      document.body.appendChild(div);\n",
              "\n",
              "      const buffers = [];\n",
              "      let downloaded = 0;\n",
              "\n",
              "      const channel = await google.colab.kernel.comms.open(id);\n",
              "      // Send a message to notify the kernel that we're ready.\n",
              "      channel.send({})\n",
              "\n",
              "      for await (const message of channel.messages) {\n",
              "        // Send a message to notify the kernel that we're ready.\n",
              "        channel.send({})\n",
              "        if (message.buffers) {\n",
              "          for (const buffer of message.buffers) {\n",
              "            buffers.push(buffer);\n",
              "            downloaded += buffer.byteLength;\n",
              "            progress.value = downloaded;\n",
              "          }\n",
              "        }\n",
              "      }\n",
              "      const blob = new Blob(buffers, {type: 'application/binary'});\n",
              "      const a = document.createElement('a');\n",
              "      a.href = window.URL.createObjectURL(blob);\n",
              "      a.download = filename;\n",
              "      div.appendChild(a);\n",
              "      a.click();\n",
              "      div.remove();\n",
              "    }\n",
              "  "
            ],
            "text/plain": [
              "<IPython.core.display.Javascript object>"
            ]
          },
          "metadata": {},
          "output_type": "display_data"
        },
        {
          "data": {
            "application/javascript": [
              "download(\"download_5a01ab20-c37f-4f01-8c4f-e66dd4618198\", \"fraud_detection_model.pkl\", 11358860)"
            ],
            "text/plain": [
              "<IPython.core.display.Javascript object>"
            ]
          },
          "metadata": {},
          "output_type": "display_data"
        },
        {
          "data": {
            "application/javascript": [
              "\n",
              "    async function download(id, filename, size) {\n",
              "      if (!google.colab.kernel.accessAllowed) {\n",
              "        return;\n",
              "      }\n",
              "      const div = document.createElement('div');\n",
              "      const label = document.createElement('label');\n",
              "      label.textContent = `Downloading \"${filename}\": `;\n",
              "      div.appendChild(label);\n",
              "      const progress = document.createElement('progress');\n",
              "      progress.max = size;\n",
              "      div.appendChild(progress);\n",
              "      document.body.appendChild(div);\n",
              "\n",
              "      const buffers = [];\n",
              "      let downloaded = 0;\n",
              "\n",
              "      const channel = await google.colab.kernel.comms.open(id);\n",
              "      // Send a message to notify the kernel that we're ready.\n",
              "      channel.send({})\n",
              "\n",
              "      for await (const message of channel.messages) {\n",
              "        // Send a message to notify the kernel that we're ready.\n",
              "        channel.send({})\n",
              "        if (message.buffers) {\n",
              "          for (const buffer of message.buffers) {\n",
              "            buffers.push(buffer);\n",
              "            downloaded += buffer.byteLength;\n",
              "            progress.value = downloaded;\n",
              "          }\n",
              "        }\n",
              "      }\n",
              "      const blob = new Blob(buffers, {type: 'application/binary'});\n",
              "      const a = document.createElement('a');\n",
              "      a.href = window.URL.createObjectURL(blob);\n",
              "      a.download = filename;\n",
              "      div.appendChild(a);\n",
              "      a.click();\n",
              "      div.remove();\n",
              "    }\n",
              "  "
            ],
            "text/plain": [
              "<IPython.core.display.Javascript object>"
            ]
          },
          "metadata": {},
          "output_type": "display_data"
        },
        {
          "data": {
            "application/javascript": [
              "download(\"download_919739a4-dd18-4a44-95b9-5d5c95dcd6b3\", \"tfidf_vectorizer.pkl\", 8067)"
            ],
            "text/plain": [
              "<IPython.core.display.Javascript object>"
            ]
          },
          "metadata": {},
          "output_type": "display_data"
        },
        {
          "data": {
            "application/javascript": [
              "\n",
              "    async function download(id, filename, size) {\n",
              "      if (!google.colab.kernel.accessAllowed) {\n",
              "        return;\n",
              "      }\n",
              "      const div = document.createElement('div');\n",
              "      const label = document.createElement('label');\n",
              "      label.textContent = `Downloading \"${filename}\": `;\n",
              "      div.appendChild(label);\n",
              "      const progress = document.createElement('progress');\n",
              "      progress.max = size;\n",
              "      div.appendChild(progress);\n",
              "      document.body.appendChild(div);\n",
              "\n",
              "      const buffers = [];\n",
              "      let downloaded = 0;\n",
              "\n",
              "      const channel = await google.colab.kernel.comms.open(id);\n",
              "      // Send a message to notify the kernel that we're ready.\n",
              "      channel.send({})\n",
              "\n",
              "      for await (const message of channel.messages) {\n",
              "        // Send a message to notify the kernel that we're ready.\n",
              "        channel.send({})\n",
              "        if (message.buffers) {\n",
              "          for (const buffer of message.buffers) {\n",
              "            buffers.push(buffer);\n",
              "            downloaded += buffer.byteLength;\n",
              "            progress.value = downloaded;\n",
              "          }\n",
              "        }\n",
              "      }\n",
              "      const blob = new Blob(buffers, {type: 'application/binary'});\n",
              "      const a = document.createElement('a');\n",
              "      a.href = window.URL.createObjectURL(blob);\n",
              "      a.download = filename;\n",
              "      div.appendChild(a);\n",
              "      a.click();\n",
              "      div.remove();\n",
              "    }\n",
              "  "
            ],
            "text/plain": [
              "<IPython.core.display.Javascript object>"
            ]
          },
          "metadata": {},
          "output_type": "display_data"
        },
        {
          "data": {
            "application/javascript": [
              "download(\"download_492784f7-e222-4016-8ee5-aed015a226f4\", \"one_hot_encoder.pkl\", 26115)"
            ],
            "text/plain": [
              "<IPython.core.display.Javascript object>"
            ]
          },
          "metadata": {},
          "output_type": "display_data"
        }
      ]
    },
    {
      "cell_type": "code",
      "source": [
        "fraud_samples = df[df['fraudulent'] == 1].sample(n=100, random_state=42)\n"
      ],
      "metadata": {
        "id": "1LoRqnK9Sy7e"
      },
      "execution_count": null,
      "outputs": []
    },
    {
      "cell_type": "code",
      "source": [
        "fraud_samples"
      ],
      "metadata": {
        "colab": {
          "base_uri": "https://localhost:8080/",
          "height": 684
        },
        "id": "DMsQ5xab1XLV",
        "outputId": "a8d2d6f6-d155-409e-84c4-2e44e6173cc6"
      },
      "execution_count": null,
      "outputs": [
        {
          "data": {
            "application/vnd.google.colaboratory.intrinsic+json": {
              "summary": "{\n  \"name\": \"fraud_samples\",\n  \"rows\": 100,\n  \"fields\": [\n    {\n      \"column\": \"title\",\n      \"properties\": {\n        \"dtype\": \"string\",\n        \"num_unique_values\": 92,\n        \"samples\": [\n          \"exhibition designer\",\n          \"filmvideo editor\",\n          \"ship broker\"\n        ],\n        \"semantic_type\": \"\",\n        \"description\": \"\"\n      }\n    },\n    {\n      \"column\": \"location\",\n      \"properties\": {\n        \"dtype\": \"string\",\n        \"num_unique_values\": 64,\n        \"samples\": [\n          \"u ca\",\n          \"north lisastad\",\n          \"velasqueztown\"\n        ],\n        \"semantic_type\": \"\",\n        \"description\": \"\"\n      }\n    },\n    {\n      \"column\": \"description\",\n      \"properties\": {\n        \"dtype\": \"string\",\n        \"num_unique_values\": 100,\n        \"samples\": [\n          \"produce networking software io amp nxosoptical networking routerstoric markerprechopperspectaclesapplication networking servicesblade switchesinterfaces moduleslenses used refraction testing phone accessory etc goal help client achieve success complete focus commitment qualitycisco inc founded around proprietary nitric oxide nodonating research urlaedcfdebbdfbeaaafffdcc aim create different scale specialty ophthalmic company combine international reach key market north america europe remaining close medical community patient\",\n          \"degree scene science moment knowledge great moment environmental earn week immediate hiring contact shannongmailcom\",\n          \"mention decision reduce security recent earn week immediate hiring contact philllawrenceinfo\"\n        ],\n        \"semantic_type\": \"\",\n        \"description\": \"\"\n      }\n    },\n    {\n      \"column\": \"requirements\",\n      \"properties\": {\n        \"dtype\": \"string\",\n        \"num_unique_values\": 82,\n        \"samples\": [\n          \"basic knowledge focus degree required flexible hour\",\n          \"basic knowledge oil degree required flexible hour\",\n          \"basic knowledge interesting degree required flexible hour\"\n        ],\n        \"semantic_type\": \"\",\n        \"description\": \"\"\n      }\n    },\n    {\n      \"column\": \"company_profile\",\n      \"properties\": {\n        \"dtype\": \"string\",\n        \"num_unique_values\": 98,\n        \"samples\": [\n          \"jonesmcgrath established\",\n          \"robinson son established\",\n          \"frederick plc established\"\n        ],\n        \"semantic_type\": \"\",\n        \"description\": \"\"\n      }\n    },\n    {\n      \"column\": \"employment_type\",\n      \"properties\": {\n        \"dtype\": \"category\",\n        \"num_unique_values\": 7,\n        \"samples\": [\n          \"Part-Time\",\n          \"Contract\",\n          \"Full-time\"\n        ],\n        \"semantic_type\": \"\",\n        \"description\": \"\"\n      }\n    },\n    {\n      \"column\": \"industry\",\n      \"properties\": {\n        \"dtype\": \"category\",\n        \"num_unique_values\": 11,\n        \"samples\": [\n          \"Retail\",\n          \"Finance\",\n          \"Unknown\"\n        ],\n        \"semantic_type\": \"\",\n        \"description\": \"\"\n      }\n    },\n    {\n      \"column\": \"department\",\n      \"properties\": {\n        \"dtype\": \"category\",\n        \"num_unique_values\": 4,\n        \"samples\": [\n          \"Administrative\",\n          \"Data Entry\",\n          \"Unknown\"\n        ],\n        \"semantic_type\": \"\",\n        \"description\": \"\"\n      }\n    },\n    {\n      \"column\": \"fraudulent\",\n      \"properties\": {\n        \"dtype\": \"number\",\n        \"std\": 0,\n        \"min\": 1,\n        \"max\": 1,\n        \"num_unique_values\": 1,\n        \"samples\": [\n          1\n        ],\n        \"semantic_type\": \"\",\n        \"description\": \"\"\n      }\n    },\n    {\n      \"column\": \"normalized_salary\",\n      \"properties\": {\n        \"dtype\": \"number\",\n        \"std\": 1.87921291619623e-05,\n        \"min\": 0.0,\n        \"max\": 0.000105133,\n        \"num_unique_values\": 98,\n        \"samples\": [\n          7.87825e-05\n        ],\n        \"semantic_type\": \"\",\n        \"description\": \"\"\n      }\n    },\n    {\n      \"column\": \"combined_text\",\n      \"properties\": {\n        \"dtype\": \"string\",\n        \"num_unique_values\": 100,\n        \"samples\": [\n          \"data entry clerical admin administrative assistant customer service accounting payroll clerk book keeping u fl produce networking software io amp nxosoptical networking routerstoric markerprechopperspectaclesapplication networking servicesblade switchesinterfaces moduleslenses used refraction testing phone accessory etc goal help client achieve success complete focus commitment qualitycisco inc founded around proprietary nitric oxide nodonating research urlaedcfdebbdfbeaaafffdcc aim create different scale specialty ophthalmic company combine international reach key market north america europe remaining close medical community patient high schoolbachelors degree month accounting experienceexperience construction project based accounting preferredknowledgeable davisbacon prevailing wage documentationknowledgeable insurance requirement prelim process inhouse fringe benefit planscoordinate outside cpa firm\"\n        ],\n        \"semantic_type\": \"\",\n        \"description\": \"\"\n      }\n    }\n  ]\n}",
              "type": "dataframe",
              "variable_name": "fraud_samples"
            },
            "text/html": [
              "\n",
              "  <div id=\"df-0f9c38e4-6ba1-43fb-ada0-8fa115dde1f8\" class=\"colab-df-container\">\n",
              "    <div>\n",
              "<style scoped>\n",
              "    .dataframe tbody tr th:only-of-type {\n",
              "        vertical-align: middle;\n",
              "    }\n",
              "\n",
              "    .dataframe tbody tr th {\n",
              "        vertical-align: top;\n",
              "    }\n",
              "\n",
              "    .dataframe thead th {\n",
              "        text-align: right;\n",
              "    }\n",
              "</style>\n",
              "<table border=\"1\" class=\"dataframe\">\n",
              "  <thead>\n",
              "    <tr style=\"text-align: right;\">\n",
              "      <th></th>\n",
              "      <th>title</th>\n",
              "      <th>location</th>\n",
              "      <th>description</th>\n",
              "      <th>requirements</th>\n",
              "      <th>company_profile</th>\n",
              "      <th>employment_type</th>\n",
              "      <th>industry</th>\n",
              "      <th>department</th>\n",
              "      <th>fraudulent</th>\n",
              "      <th>normalized_salary</th>\n",
              "      <th>combined_text</th>\n",
              "    </tr>\n",
              "  </thead>\n",
              "  <tbody>\n",
              "    <tr>\n",
              "      <th>1348</th>\n",
              "      <td>mining engineer</td>\n",
              "      <td>velasqueztown</td>\n",
              "      <td>perhaps young research without perhaps land to...</td>\n",
              "      <td>basic knowledge oil degree required flexible hour</td>\n",
              "      <td>pruitt williamson rojas established</td>\n",
              "      <td>Part-Time</td>\n",
              "      <td>Finance</td>\n",
              "      <td>Unknown</td>\n",
              "      <td>1</td>\n",
              "      <td>0.000078</td>\n",
              "      <td>mining engineer velasqueztown perhaps young re...</td>\n",
              "    </tr>\n",
              "    <tr>\n",
              "      <th>10110</th>\n",
              "      <td>chief marketing officer</td>\n",
              "      <td>brendamouth</td>\n",
              "      <td>occur scientist ever public hotel audience ear...</td>\n",
              "      <td>basic knowledge check degree required flexible...</td>\n",
              "      <td>cole ltd established</td>\n",
              "      <td>Contract</td>\n",
              "      <td>Education</td>\n",
              "      <td>Unknown</td>\n",
              "      <td>1</td>\n",
              "      <td>0.000091</td>\n",
              "      <td>chief marketing officer brendamouth occur scie...</td>\n",
              "    </tr>\n",
              "    <tr>\n",
              "      <th>2423</th>\n",
              "      <td>education officer community</td>\n",
              "      <td>lewisshire</td>\n",
              "      <td>area truth item force choose earn week immedia...</td>\n",
              "      <td>basic knowledge remember degree required flexi...</td>\n",
              "      <td>parkergoodman established</td>\n",
              "      <td>Temporary</td>\n",
              "      <td>IT</td>\n",
              "      <td>Unknown</td>\n",
              "      <td>1</td>\n",
              "      <td>0.000081</td>\n",
              "      <td>education officer community lewisshire area tr...</td>\n",
              "    </tr>\n",
              "    <tr>\n",
              "      <th>17892</th>\n",
              "      <td>translator</td>\n",
              "      <td>kevinstad</td>\n",
              "      <td>body explain alone describe little earn week i...</td>\n",
              "      <td>basic knowledge condition degree required flex...</td>\n",
              "      <td>claytonprince established</td>\n",
              "      <td>Contract</td>\n",
              "      <td>Healthcare</td>\n",
              "      <td>Unknown</td>\n",
              "      <td>1</td>\n",
              "      <td>0.000063</td>\n",
              "      <td>translator kevinstad body explain alone descri...</td>\n",
              "    </tr>\n",
              "    <tr>\n",
              "      <th>11514</th>\n",
              "      <td>dramatherapist</td>\n",
              "      <td>mitchellville</td>\n",
              "      <td>sure radio data smile open earn week immediate...</td>\n",
              "      <td>basic knowledge mr degree required flexible hour</td>\n",
              "      <td>thompsonsanders established</td>\n",
              "      <td>Internship</td>\n",
              "      <td>Automotive</td>\n",
              "      <td>Unknown</td>\n",
              "      <td>1</td>\n",
              "      <td>0.000076</td>\n",
              "      <td>dramatherapist mitchellville sure radio data s...</td>\n",
              "    </tr>\n",
              "    <tr>\n",
              "      <th>...</th>\n",
              "      <td>...</td>\n",
              "      <td>...</td>\n",
              "      <td>...</td>\n",
              "      <td>...</td>\n",
              "      <td>...</td>\n",
              "      <td>...</td>\n",
              "      <td>...</td>\n",
              "      <td>...</td>\n",
              "      <td>...</td>\n",
              "      <td>...</td>\n",
              "      <td>...</td>\n",
              "    </tr>\n",
              "    <tr>\n",
              "      <th>7871</th>\n",
              "      <td>engineer technical sale</td>\n",
              "      <td>norrismouth</td>\n",
              "      <td>room box line role camera arm earn week immedi...</td>\n",
              "      <td>basic knowledge specific degree required flexi...</td>\n",
              "      <td>morganandersen established</td>\n",
              "      <td>Part-Time</td>\n",
              "      <td>Finance</td>\n",
              "      <td>Unknown</td>\n",
              "      <td>1</td>\n",
              "      <td>0.000085</td>\n",
              "      <td>engineer technical sale norrismouth room box l...</td>\n",
              "    </tr>\n",
              "    <tr>\n",
              "      <th>27177</th>\n",
              "      <td>chief executive officer</td>\n",
              "      <td>franklinburgh</td>\n",
              "      <td>question others first earn week immediate hiri...</td>\n",
              "      <td>basic knowledge every degree required flexible...</td>\n",
              "      <td>frederick plc established</td>\n",
              "      <td>Temporary</td>\n",
              "      <td>Telecommunications</td>\n",
              "      <td>Unknown</td>\n",
              "      <td>1</td>\n",
              "      <td>0.000065</td>\n",
              "      <td>chief executive officer franklinburgh question...</td>\n",
              "    </tr>\n",
              "    <tr>\n",
              "      <th>20535</th>\n",
              "      <td>forensic scientist</td>\n",
              "      <td>ruizview</td>\n",
              "      <td>growth community book eye environment earn wee...</td>\n",
              "      <td>basic knowledge republican degree required fle...</td>\n",
              "      <td>clarkmoreno established</td>\n",
              "      <td>Full-Time</td>\n",
              "      <td>Retail</td>\n",
              "      <td>Unknown</td>\n",
              "      <td>1</td>\n",
              "      <td>0.000099</td>\n",
              "      <td>forensic scientist ruizview growth community b...</td>\n",
              "    </tr>\n",
              "    <tr>\n",
              "      <th>9875</th>\n",
              "      <td>production supervisor</td>\n",
              "      <td>u tx houston</td>\n",
              "      <td>oversee plant operationsmonitor troubleshoot o...</td>\n",
              "      <td>flexible scheduleminimum year experienceknowle...</td>\n",
              "      <td>founded group short year earned excellent repu...</td>\n",
              "      <td>Full-time</td>\n",
              "      <td>Media Production</td>\n",
              "      <td>Unknown</td>\n",
              "      <td>1</td>\n",
              "      <td>0.000043</td>\n",
              "      <td>production supervisor u tx houston oversee pla...</td>\n",
              "    </tr>\n",
              "    <tr>\n",
              "      <th>23893</th>\n",
              "      <td>surveyor landgeomatics</td>\n",
              "      <td>south stephenhaven</td>\n",
              "      <td>sing size near earn week immediate hiring cont...</td>\n",
              "      <td>basic knowledge role degree required flexible ...</td>\n",
              "      <td>thompson sosa ramos established</td>\n",
              "      <td>Part-Time</td>\n",
              "      <td>Telecommunications</td>\n",
              "      <td>Unknown</td>\n",
              "      <td>1</td>\n",
              "      <td>0.000063</td>\n",
              "      <td>surveyor landgeomatics south stephenhaven sing...</td>\n",
              "    </tr>\n",
              "  </tbody>\n",
              "</table>\n",
              "<p>100 rows × 11 columns</p>\n",
              "</div>\n",
              "    <div class=\"colab-df-buttons\">\n",
              "\n",
              "  <div class=\"colab-df-container\">\n",
              "    <button class=\"colab-df-convert\" onclick=\"convertToInteractive('df-0f9c38e4-6ba1-43fb-ada0-8fa115dde1f8')\"\n",
              "            title=\"Convert this dataframe to an interactive table.\"\n",
              "            style=\"display:none;\">\n",
              "\n",
              "  <svg xmlns=\"http://www.w3.org/2000/svg\" height=\"24px\" viewBox=\"0 -960 960 960\">\n",
              "    <path d=\"M120-120v-720h720v720H120Zm60-500h600v-160H180v160Zm220 220h160v-160H400v160Zm0 220h160v-160H400v160ZM180-400h160v-160H180v160Zm440 0h160v-160H620v160ZM180-180h160v-160H180v160Zm440 0h160v-160H620v160Z\"/>\n",
              "  </svg>\n",
              "    </button>\n",
              "\n",
              "  <style>\n",
              "    .colab-df-container {\n",
              "      display:flex;\n",
              "      gap: 12px;\n",
              "    }\n",
              "\n",
              "    .colab-df-convert {\n",
              "      background-color: #E8F0FE;\n",
              "      border: none;\n",
              "      border-radius: 50%;\n",
              "      cursor: pointer;\n",
              "      display: none;\n",
              "      fill: #1967D2;\n",
              "      height: 32px;\n",
              "      padding: 0 0 0 0;\n",
              "      width: 32px;\n",
              "    }\n",
              "\n",
              "    .colab-df-convert:hover {\n",
              "      background-color: #E2EBFA;\n",
              "      box-shadow: 0px 1px 2px rgba(60, 64, 67, 0.3), 0px 1px 3px 1px rgba(60, 64, 67, 0.15);\n",
              "      fill: #174EA6;\n",
              "    }\n",
              "\n",
              "    .colab-df-buttons div {\n",
              "      margin-bottom: 4px;\n",
              "    }\n",
              "\n",
              "    [theme=dark] .colab-df-convert {\n",
              "      background-color: #3B4455;\n",
              "      fill: #D2E3FC;\n",
              "    }\n",
              "\n",
              "    [theme=dark] .colab-df-convert:hover {\n",
              "      background-color: #434B5C;\n",
              "      box-shadow: 0px 1px 3px 1px rgba(0, 0, 0, 0.15);\n",
              "      filter: drop-shadow(0px 1px 2px rgba(0, 0, 0, 0.3));\n",
              "      fill: #FFFFFF;\n",
              "    }\n",
              "  </style>\n",
              "\n",
              "    <script>\n",
              "      const buttonEl =\n",
              "        document.querySelector('#df-0f9c38e4-6ba1-43fb-ada0-8fa115dde1f8 button.colab-df-convert');\n",
              "      buttonEl.style.display =\n",
              "        google.colab.kernel.accessAllowed ? 'block' : 'none';\n",
              "\n",
              "      async function convertToInteractive(key) {\n",
              "        const element = document.querySelector('#df-0f9c38e4-6ba1-43fb-ada0-8fa115dde1f8');\n",
              "        const dataTable =\n",
              "          await google.colab.kernel.invokeFunction('convertToInteractive',\n",
              "                                                    [key], {});\n",
              "        if (!dataTable) return;\n",
              "\n",
              "        const docLinkHtml = 'Like what you see? Visit the ' +\n",
              "          '<a target=\"_blank\" href=https://colab.research.google.com/notebooks/data_table.ipynb>data table notebook</a>'\n",
              "          + ' to learn more about interactive tables.';\n",
              "        element.innerHTML = '';\n",
              "        dataTable['output_type'] = 'display_data';\n",
              "        await google.colab.output.renderOutput(dataTable, element);\n",
              "        const docLink = document.createElement('div');\n",
              "        docLink.innerHTML = docLinkHtml;\n",
              "        element.appendChild(docLink);\n",
              "      }\n",
              "    </script>\n",
              "  </div>\n",
              "\n",
              "\n",
              "    <div id=\"df-7409740d-846a-44db-83d3-6829d7d28e82\">\n",
              "      <button class=\"colab-df-quickchart\" onclick=\"quickchart('df-7409740d-846a-44db-83d3-6829d7d28e82')\"\n",
              "                title=\"Suggest charts\"\n",
              "                style=\"display:none;\">\n",
              "\n",
              "<svg xmlns=\"http://www.w3.org/2000/svg\" height=\"24px\"viewBox=\"0 0 24 24\"\n",
              "     width=\"24px\">\n",
              "    <g>\n",
              "        <path d=\"M19 3H5c-1.1 0-2 .9-2 2v14c0 1.1.9 2 2 2h14c1.1 0 2-.9 2-2V5c0-1.1-.9-2-2-2zM9 17H7v-7h2v7zm4 0h-2V7h2v10zm4 0h-2v-4h2v4z\"/>\n",
              "    </g>\n",
              "</svg>\n",
              "      </button>\n",
              "\n",
              "<style>\n",
              "  .colab-df-quickchart {\n",
              "      --bg-color: #E8F0FE;\n",
              "      --fill-color: #1967D2;\n",
              "      --hover-bg-color: #E2EBFA;\n",
              "      --hover-fill-color: #174EA6;\n",
              "      --disabled-fill-color: #AAA;\n",
              "      --disabled-bg-color: #DDD;\n",
              "  }\n",
              "\n",
              "  [theme=dark] .colab-df-quickchart {\n",
              "      --bg-color: #3B4455;\n",
              "      --fill-color: #D2E3FC;\n",
              "      --hover-bg-color: #434B5C;\n",
              "      --hover-fill-color: #FFFFFF;\n",
              "      --disabled-bg-color: #3B4455;\n",
              "      --disabled-fill-color: #666;\n",
              "  }\n",
              "\n",
              "  .colab-df-quickchart {\n",
              "    background-color: var(--bg-color);\n",
              "    border: none;\n",
              "    border-radius: 50%;\n",
              "    cursor: pointer;\n",
              "    display: none;\n",
              "    fill: var(--fill-color);\n",
              "    height: 32px;\n",
              "    padding: 0;\n",
              "    width: 32px;\n",
              "  }\n",
              "\n",
              "  .colab-df-quickchart:hover {\n",
              "    background-color: var(--hover-bg-color);\n",
              "    box-shadow: 0 1px 2px rgba(60, 64, 67, 0.3), 0 1px 3px 1px rgba(60, 64, 67, 0.15);\n",
              "    fill: var(--button-hover-fill-color);\n",
              "  }\n",
              "\n",
              "  .colab-df-quickchart-complete:disabled,\n",
              "  .colab-df-quickchart-complete:disabled:hover {\n",
              "    background-color: var(--disabled-bg-color);\n",
              "    fill: var(--disabled-fill-color);\n",
              "    box-shadow: none;\n",
              "  }\n",
              "\n",
              "  .colab-df-spinner {\n",
              "    border: 2px solid var(--fill-color);\n",
              "    border-color: transparent;\n",
              "    border-bottom-color: var(--fill-color);\n",
              "    animation:\n",
              "      spin 1s steps(1) infinite;\n",
              "  }\n",
              "\n",
              "  @keyframes spin {\n",
              "    0% {\n",
              "      border-color: transparent;\n",
              "      border-bottom-color: var(--fill-color);\n",
              "      border-left-color: var(--fill-color);\n",
              "    }\n",
              "    20% {\n",
              "      border-color: transparent;\n",
              "      border-left-color: var(--fill-color);\n",
              "      border-top-color: var(--fill-color);\n",
              "    }\n",
              "    30% {\n",
              "      border-color: transparent;\n",
              "      border-left-color: var(--fill-color);\n",
              "      border-top-color: var(--fill-color);\n",
              "      border-right-color: var(--fill-color);\n",
              "    }\n",
              "    40% {\n",
              "      border-color: transparent;\n",
              "      border-right-color: var(--fill-color);\n",
              "      border-top-color: var(--fill-color);\n",
              "    }\n",
              "    60% {\n",
              "      border-color: transparent;\n",
              "      border-right-color: var(--fill-color);\n",
              "    }\n",
              "    80% {\n",
              "      border-color: transparent;\n",
              "      border-right-color: var(--fill-color);\n",
              "      border-bottom-color: var(--fill-color);\n",
              "    }\n",
              "    90% {\n",
              "      border-color: transparent;\n",
              "      border-bottom-color: var(--fill-color);\n",
              "    }\n",
              "  }\n",
              "</style>\n",
              "\n",
              "      <script>\n",
              "        async function quickchart(key) {\n",
              "          const quickchartButtonEl =\n",
              "            document.querySelector('#' + key + ' button');\n",
              "          quickchartButtonEl.disabled = true;  // To prevent multiple clicks.\n",
              "          quickchartButtonEl.classList.add('colab-df-spinner');\n",
              "          try {\n",
              "            const charts = await google.colab.kernel.invokeFunction(\n",
              "                'suggestCharts', [key], {});\n",
              "          } catch (error) {\n",
              "            console.error('Error during call to suggestCharts:', error);\n",
              "          }\n",
              "          quickchartButtonEl.classList.remove('colab-df-spinner');\n",
              "          quickchartButtonEl.classList.add('colab-df-quickchart-complete');\n",
              "        }\n",
              "        (() => {\n",
              "          let quickchartButtonEl =\n",
              "            document.querySelector('#df-7409740d-846a-44db-83d3-6829d7d28e82 button');\n",
              "          quickchartButtonEl.style.display =\n",
              "            google.colab.kernel.accessAllowed ? 'block' : 'none';\n",
              "        })();\n",
              "      </script>\n",
              "    </div>\n",
              "\n",
              "  <div id=\"id_5649b787-e56f-4931-82e2-bd0362f71874\">\n",
              "    <style>\n",
              "      .colab-df-generate {\n",
              "        background-color: #E8F0FE;\n",
              "        border: none;\n",
              "        border-radius: 50%;\n",
              "        cursor: pointer;\n",
              "        display: none;\n",
              "        fill: #1967D2;\n",
              "        height: 32px;\n",
              "        padding: 0 0 0 0;\n",
              "        width: 32px;\n",
              "      }\n",
              "\n",
              "      .colab-df-generate:hover {\n",
              "        background-color: #E2EBFA;\n",
              "        box-shadow: 0px 1px 2px rgba(60, 64, 67, 0.3), 0px 1px 3px 1px rgba(60, 64, 67, 0.15);\n",
              "        fill: #174EA6;\n",
              "      }\n",
              "\n",
              "      [theme=dark] .colab-df-generate {\n",
              "        background-color: #3B4455;\n",
              "        fill: #D2E3FC;\n",
              "      }\n",
              "\n",
              "      [theme=dark] .colab-df-generate:hover {\n",
              "        background-color: #434B5C;\n",
              "        box-shadow: 0px 1px 3px 1px rgba(0, 0, 0, 0.15);\n",
              "        filter: drop-shadow(0px 1px 2px rgba(0, 0, 0, 0.3));\n",
              "        fill: #FFFFFF;\n",
              "      }\n",
              "    </style>\n",
              "    <button class=\"colab-df-generate\" onclick=\"generateWithVariable('fraud_samples')\"\n",
              "            title=\"Generate code using this dataframe.\"\n",
              "            style=\"display:none;\">\n",
              "\n",
              "  <svg xmlns=\"http://www.w3.org/2000/svg\" height=\"24px\"viewBox=\"0 0 24 24\"\n",
              "       width=\"24px\">\n",
              "    <path d=\"M7,19H8.4L18.45,9,17,7.55,7,17.6ZM5,21V16.75L18.45,3.32a2,2,0,0,1,2.83,0l1.4,1.43a1.91,1.91,0,0,1,.58,1.4,1.91,1.91,0,0,1-.58,1.4L9.25,21ZM18.45,9,17,7.55Zm-12,3A5.31,5.31,0,0,0,4.9,8.1,5.31,5.31,0,0,0,1,6.5,5.31,5.31,0,0,0,4.9,4.9,5.31,5.31,0,0,0,6.5,1,5.31,5.31,0,0,0,8.1,4.9,5.31,5.31,0,0,0,12,6.5,5.46,5.46,0,0,0,6.5,12Z\"/>\n",
              "  </svg>\n",
              "    </button>\n",
              "    <script>\n",
              "      (() => {\n",
              "      const buttonEl =\n",
              "        document.querySelector('#id_5649b787-e56f-4931-82e2-bd0362f71874 button.colab-df-generate');\n",
              "      buttonEl.style.display =\n",
              "        google.colab.kernel.accessAllowed ? 'block' : 'none';\n",
              "\n",
              "      buttonEl.onclick = () => {\n",
              "        google.colab.notebook.generateWithVariable('fraud_samples');\n",
              "      }\n",
              "      })();\n",
              "    </script>\n",
              "  </div>\n",
              "\n",
              "    </div>\n",
              "  </div>\n"
            ],
            "text/plain": [
              "                             title            location  \\\n",
              "1348               mining engineer       velasqueztown   \n",
              "10110      chief marketing officer         brendamouth   \n",
              "2423   education officer community          lewisshire   \n",
              "17892                   translator           kevinstad   \n",
              "11514               dramatherapist       mitchellville   \n",
              "...                            ...                 ...   \n",
              "7871       engineer technical sale         norrismouth   \n",
              "27177      chief executive officer       franklinburgh   \n",
              "20535           forensic scientist            ruizview   \n",
              "9875         production supervisor        u tx houston   \n",
              "23893       surveyor landgeomatics  south stephenhaven   \n",
              "\n",
              "                                             description  \\\n",
              "1348   perhaps young research without perhaps land to...   \n",
              "10110  occur scientist ever public hotel audience ear...   \n",
              "2423   area truth item force choose earn week immedia...   \n",
              "17892  body explain alone describe little earn week i...   \n",
              "11514  sure radio data smile open earn week immediate...   \n",
              "...                                                  ...   \n",
              "7871   room box line role camera arm earn week immedi...   \n",
              "27177  question others first earn week immediate hiri...   \n",
              "20535  growth community book eye environment earn wee...   \n",
              "9875   oversee plant operationsmonitor troubleshoot o...   \n",
              "23893  sing size near earn week immediate hiring cont...   \n",
              "\n",
              "                                            requirements  \\\n",
              "1348   basic knowledge oil degree required flexible hour   \n",
              "10110  basic knowledge check degree required flexible...   \n",
              "2423   basic knowledge remember degree required flexi...   \n",
              "17892  basic knowledge condition degree required flex...   \n",
              "11514   basic knowledge mr degree required flexible hour   \n",
              "...                                                  ...   \n",
              "7871   basic knowledge specific degree required flexi...   \n",
              "27177  basic knowledge every degree required flexible...   \n",
              "20535  basic knowledge republican degree required fle...   \n",
              "9875   flexible scheduleminimum year experienceknowle...   \n",
              "23893  basic knowledge role degree required flexible ...   \n",
              "\n",
              "                                         company_profile employment_type  \\\n",
              "1348                 pruitt williamson rojas established       Part-Time   \n",
              "10110                               cole ltd established        Contract   \n",
              "2423                           parkergoodman established       Temporary   \n",
              "17892                          claytonprince established        Contract   \n",
              "11514                        thompsonsanders established      Internship   \n",
              "...                                                  ...             ...   \n",
              "7871                          morganandersen established       Part-Time   \n",
              "27177                          frederick plc established       Temporary   \n",
              "20535                            clarkmoreno established       Full-Time   \n",
              "9875   founded group short year earned excellent repu...       Full-time   \n",
              "23893                    thompson sosa ramos established       Part-Time   \n",
              "\n",
              "                 industry department  fraudulent  normalized_salary  \\\n",
              "1348              Finance    Unknown           1           0.000078   \n",
              "10110           Education    Unknown           1           0.000091   \n",
              "2423                   IT    Unknown           1           0.000081   \n",
              "17892          Healthcare    Unknown           1           0.000063   \n",
              "11514          Automotive    Unknown           1           0.000076   \n",
              "...                   ...        ...         ...                ...   \n",
              "7871              Finance    Unknown           1           0.000085   \n",
              "27177  Telecommunications    Unknown           1           0.000065   \n",
              "20535              Retail    Unknown           1           0.000099   \n",
              "9875     Media Production    Unknown           1           0.000043   \n",
              "23893  Telecommunications    Unknown           1           0.000063   \n",
              "\n",
              "                                           combined_text  \n",
              "1348   mining engineer velasqueztown perhaps young re...  \n",
              "10110  chief marketing officer brendamouth occur scie...  \n",
              "2423   education officer community lewisshire area tr...  \n",
              "17892  translator kevinstad body explain alone descri...  \n",
              "11514  dramatherapist mitchellville sure radio data s...  \n",
              "...                                                  ...  \n",
              "7871   engineer technical sale norrismouth room box l...  \n",
              "27177  chief executive officer franklinburgh question...  \n",
              "20535  forensic scientist ruizview growth community b...  \n",
              "9875   production supervisor u tx houston oversee pla...  \n",
              "23893  surveyor landgeomatics south stephenhaven sing...  \n",
              "\n",
              "[100 rows x 11 columns]"
            ]
          },
          "execution_count": 41,
          "metadata": {},
          "output_type": "execute_result"
        }
      ]
    },
    {
      "cell_type": "code",
      "source": [
        "# Combine the text columns into a single column\n",
        "fraud_samples['combined_text'] = fraud_samples[text_features].apply(lambda row: ' '.join(row), axis=1)\n",
        "\n",
        "# Clean the combined text column\n",
        "fraud_samples['cleaned_combined_text'] = fraud_samples['combined_text'].apply(clean_text)\n",
        "\n",
        "# Vectorize the combined text column using the same fitted TF-IDF vectorizer (don't re-fit)\n",
        "X_text_fraud = tfidf.transform(fraud_samples['cleaned_combined_text'])\n",
        "\n",
        "# One-hot encode categorical features (don't re-fit)\n",
        "X_cat_fraud = ohe.transform(fraud_samples[cat_features])\n",
        "\n",
        "# Numeric features\n",
        "X_num_fraud = csr_matrix(fraud_samples[numeric_features].values)\n",
        "\n",
        "# Combine everything into the final feature matrix\n",
        "X_fraud = hstack([X_text_fraud, X_cat_fraud, X_num_fraud])\n",
        "\n",
        "# Make predictions\n",
        "fraud_preds = voting_clf.predict(X_fraud)\n",
        "\n",
        "# Compare with ground truth\n",
        "print(\"Predicted:\", fraud_preds)\n",
        "print(\"Actual   :\", fraud_samples['fraudulent'].values)\n",
        "print(\"Correctly predicted:\", sum(fraud_preds == fraud_samples['fraudulent'].values), \"/100\")\n",
        "\n"
      ],
      "metadata": {
        "colab": {
          "base_uri": "https://localhost:8080/"
        },
        "id": "VN8PIml2yLLX",
        "outputId": "cdec9926-a6db-4f5a-c392-c82f7058d983"
      },
      "execution_count": null,
      "outputs": [
        {
          "metadata": {
            "tags": null
          },
          "name": "stdout",
          "output_type": "stream",
          "text": [
            "Predicted: [1 1 1 1 1 1 1 1 1 1 1 1 1 1 1 1 1 1 1 1 1 1 1 1 1 1 1 1 1 1 1 1 1 1 1 1 1\n",
            " 1 1 1 1 1 1 1 1 1 1 1 1 1 1 1 1 1 1 1 1 1 1 1 1 1 1 1 1 1 1 1 1 1 1 1 1 1\n",
            " 1 1 1 1 1 1 1 1 1 1 1 1 1 1 1 1 1 1 1 1 1 1 1 1 1 1]\n",
            "Actual   : [1 1 1 1 1 1 1 1 1 1 1 1 1 1 1 1 1 1 1 1 1 1 1 1 1 1 1 1 1 1 1 1 1 1 1 1 1\n",
            " 1 1 1 1 1 1 1 1 1 1 1 1 1 1 1 1 1 1 1 1 1 1 1 1 1 1 1 1 1 1 1 1 1 1 1 1 1\n",
            " 1 1 1 1 1 1 1 1 1 1 1 1 1 1 1 1 1 1 1 1 1 1 1 1 1 1]\n",
            "Correctly predicted: 100 /100\n"
          ]
        }
      ]
    },
    {
      "cell_type": "code",
      "source": [
        "fraud_samples = df[df['fraudulent'] == 0].sample(n=100, random_state=42)"
      ],
      "metadata": {
        "id": "ceoJYfuK0mhb"
      },
      "execution_count": null,
      "outputs": []
    },
    {
      "cell_type": "code",
      "source": [
        "# Combine the text columns into a single column\n",
        "fraud_samples['combined_text'] = fraud_samples[text_features].apply(lambda row: ' '.join(row), axis=1)\n",
        "\n",
        "# Clean the combined text column\n",
        "fraud_samples['cleaned_combined_text'] = fraud_samples['combined_text'].apply(clean_text)\n",
        "\n",
        "# Vectorize the combined text column using the same fitted TF-IDF vectorizer (don't re-fit)\n",
        "X_text_fraud = tfidf.transform(fraud_samples['cleaned_combined_text'])\n",
        "\n",
        "# One-hot encode categorical features (don't re-fit)\n",
        "X_cat_fraud = ohe.transform(fraud_samples[cat_features])\n",
        "\n",
        "# Numeric features\n",
        "X_num_fraud = csr_matrix(fraud_samples[numeric_features].values)\n",
        "\n",
        "# Combine everything into the final feature matrix\n",
        "X_fraud = hstack([X_text_fraud, X_cat_fraud, X_num_fraud])\n",
        "\n",
        "# Make predictions\n",
        "fraud_preds = voting_clf.predict(X_fraud)\n",
        "\n",
        "# Compare with ground truth\n",
        "print(\"Predicted:\", fraud_preds)\n",
        "print(\"Actual   :\", fraud_samples['fraudulent'].values)\n",
        "print(\"Correctly predicted:\", sum(fraud_preds == fraud_samples['fraudulent'].values), \"/100\")"
      ],
      "metadata": {
        "colab": {
          "base_uri": "https://localhost:8080/"
        },
        "id": "Fn0Fcbqc5Bhf",
        "outputId": "ac24a19a-0f35-4372-d9e1-ec7a3aacf7b2"
      },
      "execution_count": null,
      "outputs": [
        {
          "metadata": {
            "tags": null
          },
          "name": "stdout",
          "output_type": "stream",
          "text": [
            "Predicted: [0 0 0 0 0 0 0 0 0 0 0 0 0 0 0 0 0 0 0 0 0 0 0 0 0 0 0 0 0 0 0 0 0 0 0 0 0\n",
            " 0 0 0 0 0 0 0 0 0 0 0 0 0 0 0 0 0 0 0 0 0 0 0 0 0 0 0 0 0 0 0 0 0 0 0 0 0\n",
            " 0 0 0 0 0 0 0 0 0 0 0 0 0 0 0 0 0 0 0 0 0 0 0 0 0 0]\n",
            "Actual   : [0 0 0 0 0 0 0 0 0 0 0 0 0 0 0 0 0 0 0 0 0 0 0 0 0 0 0 0 0 0 0 0 0 0 0 0 0\n",
            " 0 0 0 0 0 0 0 0 0 0 0 0 0 0 0 0 0 0 0 0 0 0 0 0 0 0 0 0 0 0 0 0 0 0 0 0 0\n",
            " 0 0 0 0 0 0 0 0 0 0 0 0 0 0 0 0 0 0 0 0 0 0 0 0 0 0]\n",
            "Correctly predicted: 100 /100\n"
          ]
        }
      ]
    },
    {
      "cell_type": "code",
      "source": [
        "# Step 1: Define user input\n",
        "user_input = {\n",
        "    'title': \"Mental health nurse\",\n",
        "    'location': \"West Jeffrey\",\n",
        "    'description': \"Arm drive court sure vote. Earn $5000/week! Immediate hiring. Contact now at david27@gmail.com.\",\n",
        "    'requirements': \"Basic knowledge in live, no degree required. Flexible hours.\",\n",
        "    'company_profile': \"Rivera and Sons - Established 2022.\",\n",
        "    'employment_type': \"part-time\",\n",
        "    'industry': \"Information Technology\",\n",
        "    'department': \"Health\",\n",
        "    'salary': \"55016-100476\"\n",
        "}\n",
        "\n",
        "# Step 2: Create DataFrame\n",
        "input_df = pd.DataFrame([user_input])\n",
        "\n",
        "# Step 3: Preprocess salary\n",
        "def get_median(s):\n",
        "    try:\n",
        "        low, high = map(int, s.split('-'))\n",
        "        return (low + high) / 2\n",
        "    except:\n",
        "        return 0\n",
        "\n",
        "# Normalize salary (same min/max as in your training data)\n",
        "min_salary, max_salary = 0, 150000  # Replace with actual min/max if known\n",
        "median_salary = get_median(user_input['salary'])\n",
        "normalized_salary = (median_salary - min_salary) / (max_salary - min_salary)\n",
        "input_df['normalized_salary'] = normalized_salary\n",
        "\n",
        "# Step 4: Clean text\n",
        "text_features = ['title', 'location', 'description', 'requirements', 'company_profile']\n",
        "for col in text_features:\n",
        "    input_df[col] = input_df[col].fillna('').apply(clean_text)  # use your clean_text() function\n",
        "\n",
        "# Step 5: Combine text\n",
        "input_df['combined_text'] = input_df[text_features].agg(' '.join, axis=1)\n",
        "X_text = tfidf.transform(input_df['combined_text'])\n",
        "\n",
        "# Step 6: Encode categorical features\n",
        "cat_features = ['employment_type', 'industry', 'department']\n",
        "input_df[cat_features] = input_df[cat_features].fillna('Unknown')\n",
        "X_cat = ohe.transform(input_df[cat_features])\n",
        "\n",
        "# Step 7: Combine all features\n",
        "from scipy.sparse import csr_matrix, hstack\n",
        "X_num = csr_matrix(input_df[['normalized_salary']].values)\n",
        "X_final = hstack([X_text, X_cat, X_num])\n",
        "\n",
        "# Step 8: Predict using your already-trained modelvoting_clf.predict(X_fraud)\n",
        "pred = voting_clf.predict(X_final)[0]\n",
        "label = \"Fraudulent\" if pred == 1 else \"Real\"\n",
        "print(\"Prediction:\", label)\n"
      ],
      "metadata": {
        "id": "e3BbW1uR5DTC",
        "colab": {
          "base_uri": "https://localhost:8080/"
        },
        "outputId": "761e19a8-5f16-49b5-c77a-e686be5613f2"
      },
      "execution_count": null,
      "outputs": [
        {
          "metadata": {
            "tags": null
          },
          "name": "stdout",
          "output_type": "stream",
          "text": [
            "Prediction: Fraudulent\n"
          ]
        }
      ]
    },
    {
      "cell_type": "code",
      "source": [],
      "metadata": {
        "id": "yqLTClH1WKE0"
      },
      "execution_count": null,
      "outputs": []
    }
  ]
}